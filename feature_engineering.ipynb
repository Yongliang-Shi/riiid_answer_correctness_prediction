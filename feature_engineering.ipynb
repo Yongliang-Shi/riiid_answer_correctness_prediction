{
 "cells": [
  {
   "cell_type": "markdown",
   "metadata": {},
   "source": [
    "## Goal: To generate five new features for the modeling\n",
    "1. Accuracy on every bundle\n",
    "2. Accuracy on each part\n",
    "3. Accuracy on the count of tags\n",
    "4. Accuracy on the every tag\n",
    "4. Cumulative user accuracy using exponentially weighted mean"
   ]
  },
  {
   "cell_type": "code",
   "execution_count": 1,
   "metadata": {},
   "outputs": [],
   "source": [
    "# To ignore the warnings\n",
    "import warnings\n",
    "warnings.filterwarnings(\"ignore\")\n",
    "\n",
    "# Import the libraries to handle the np array, pandas dataframe, and visualiztion\n",
    "import numpy as np\n",
    "import pandas as pd\n",
    "import matplotlib.pyplot as plt\n",
    "import seaborn as sns\n",
    "\n",
    "# Import libaries to monitor the process and time\n",
    "import psutil\n",
    "from tqdm import tqdm"
   ]
  },
  {
   "cell_type": "code",
   "execution_count": 2,
   "metadata": {},
   "outputs": [
    {
     "data": {
      "text/plain": [
       "68.1"
      ]
     },
     "execution_count": 2,
     "metadata": {},
     "output_type": "execute_result"
    }
   ],
   "source": [
    "# Print the memory use\n",
    "psutil.virtual_memory().percent"
   ]
  },
  {
   "cell_type": "markdown",
   "metadata": {},
   "source": [
    "### Pre-define optimal data types of the columns"
   ]
  },
  {
   "cell_type": "code",
   "execution_count": 3,
   "metadata": {
    "scrolled": false
   },
   "outputs": [
    {
     "name": "stdout",
     "output_type": "stream",
     "text": [
      "Momoery usage after import train/validate/test files:  68.4\n",
      "Momoery usage after import other file:  68.4\n",
      "(# rows, # cols) of train:  (411517, 18)\n",
      "(# rows, # cols) of validate:  (50842, 18)\n",
      "(# rows, # cols) of test:  (52868, 18)\n",
      "(# rows, # cols) of question_with_tag_counts.csv:  (13523, 6)\n",
      "(# rows, # cols) of lectures_with_part_name.csv:  (418, 5)\n",
      "CPU times: user 1.32 s, sys: 121 ms, total: 1.44 s\n",
      "Wall time: 1.47 s\n"
     ]
    }
   ],
   "source": [
    "%%time\n",
    "\n",
    "# Read the train.csv dataset\n",
    "\n",
    "# Define the data types\n",
    "dtypes = {\n",
    "    \"row_id\": \"int64\",\n",
    "    \"timestamp\": \"int64\",\n",
    "    \"user_id\": \"int32\",\n",
    "    \"content_id\": \"int16\", \n",
    "    \"content_type_id\": \"boolean\", \n",
    "    \"task_container_id\": \"int16\",\n",
    "    \"user_answer\": \"int8\", \n",
    "    \"answered_correctly\": \"int8\", \n",
    "    \"prior_question_elapsed_time\": \"float32\", \n",
    "    \"prior_question_had_explanation\": \"boolean\"    \n",
    "}\n",
    "\n",
    "# Import the train, validate, and test dataset of 2000 users\n",
    "df_train = pd.read_csv(\"data_2000users/train.csv\", dtype=dtypes)\n",
    "df_validate = pd.read_csv(\"data_2000users/validate.csv\", dtype=dtypes)\n",
    "df_test = pd.read_csv(\"data_2000users/test.csv\", dtype=dtypes)\n",
    "\n",
    "# Print the memory use\n",
    "print(\"Momery usage after import train/validate/test files: \", psutil.virtual_memory().percent)\n",
    "\n",
    "# Read the questions.csv\n",
    "df_ques = pd.read_csv(\"questions_with_tag_counts.csv\", index_col=0)\n",
    "\n",
    "# Read the lectures.csv\n",
    "df_lecs = pd.read_csv(\"lectures_with_part_name.csv\", index_col=0)\n",
    "\n",
    "# Print the memory use\n",
    "print(\"Momoery usage after import other file: \", psutil.virtual_memory().percent)\n",
    "\n",
    "# Print the number of rows and columns in all datasets\n",
    "print(\"(# rows, # cols) of train: \", df_train.shape)\n",
    "print(\"(# rows, # cols) of validate: \", df_validate.shape)\n",
    "print(\"(# rows, # cols) of test: \", df_test.shape)\n",
    "print(\"(# rows, # cols) of question_with_tag_counts.csv: \", df_ques.shape)\n",
    "print(\"(# rows, # cols) of lectures_with_part_name.csv: \", df_lecs.shape)"
   ]
  },
  {
   "cell_type": "markdown",
   "metadata": {},
   "source": [
    "### Preapre for feature engineering\n",
    "1. Handle missing values in columns prior_question_had_explanation and prior_question_elapsed_time\n",
    "2. Handle the np.inf values in column prior_question_elapsed_time\n",
    "3. Drop the lecture rows\n",
    "4. Merge train with df_ques and df_lecs"
   ]
  },
  {
   "cell_type": "code",
   "execution_count": 4,
   "metadata": {},
   "outputs": [
    {
     "data": {
      "text/plain": [
       "((411517, 9), (50842, 9), (52868, 9))"
      ]
     },
     "execution_count": 4,
     "metadata": {},
     "output_type": "execute_result"
    }
   ],
   "source": [
    "# Drop the columns merged from questions.csv and lectures.csv downloaded from Kaggle\n",
    "\n",
    "cols = ['lecture_id', 'tag', 'lecture_part', 'type_of', 'question_id',\n",
    "        'bundle_id', 'correct_answer', 'question_part', 'tags']\n",
    "\n",
    "df_train = df_train.drop(columns = cols)\n",
    "df_validate = df_validate.drop(columns = cols)\n",
    "df_test = df_test.drop(columns = cols)\n",
    "\n",
    "# Print the shapes\n",
    "df_train.shape, df_validate.shape, df_test.shape"
   ]
  },
  {
   "cell_type": "code",
   "execution_count": 5,
   "metadata": {},
   "outputs": [],
   "source": [
    "# Define the function about how to fill the missing values\n",
    "# in columns: prior_question_had_explanation, prior_question_elapsed_time\n",
    "\n",
    "def handle_null(df):\n",
    "    '''\n",
    "    This function is going to fill the missing values \n",
    "    in the column prior_question_elapsed_time with False (boolean) \n",
    "    and fill the missing values in the column prior_question_elapsed_time\n",
    "    with 0.\n",
    "    '''\n",
    "    df.prior_question_had_explanation.fillna(False, inplace = True)\n",
    "    df.prior_question_elapsed_time.fillna(False, inplace = True)\n",
    "    return df"
   ]
  },
  {
   "cell_type": "code",
   "execution_count": 6,
   "metadata": {
    "scrolled": false
   },
   "outputs": [
    {
     "data": {
      "text/plain": [
       "timestamp                         0\n",
       "user_id                           0\n",
       "content_id                        0\n",
       "content_type_id                   0\n",
       "task_container_id                 0\n",
       "user_answer                       0\n",
       "answered_correctly                0\n",
       "prior_question_elapsed_time       0\n",
       "prior_question_had_explanation    0\n",
       "dtype: int64"
      ]
     },
     "execution_count": 6,
     "metadata": {},
     "output_type": "execute_result"
    }
   ],
   "source": [
    "# Test the function using train\n",
    "handle_null(df_train)\n",
    "\n",
    "# Print the missing values in the train\n",
    "df_train.isnull().sum(axis=0)"
   ]
  },
  {
   "cell_type": "code",
   "execution_count": 7,
   "metadata": {},
   "outputs": [
    {
     "data": {
      "text/plain": [
       "timestamp                         0\n",
       "user_id                           0\n",
       "content_id                        0\n",
       "content_type_id                   0\n",
       "task_container_id                 0\n",
       "user_answer                       0\n",
       "answered_correctly                0\n",
       "prior_question_elapsed_time       0\n",
       "prior_question_had_explanation    0\n",
       "dtype: int64"
      ]
     },
     "execution_count": 7,
     "metadata": {},
     "output_type": "execute_result"
    }
   ],
   "source": [
    "# Apply the function to df_validate and df_test\n",
    "\n",
    "validate = handle_null(df_validate)\n",
    "test = handle_null(df_test)\n",
    "\n",
    "# Print the missing values in the df_test\n",
    "df_test.isnull().sum(axis=0)"
   ]
  },
  {
   "cell_type": "code",
   "execution_count": 8,
   "metadata": {},
   "outputs": [],
   "source": [
    "# Define a function to handle the np.inf\n",
    "\n",
    "def handle_inf(df):\n",
    "    m = df.prior_question_elapsed_time.apply(lambda i: 0 if i == np.inf else i)\n",
    "    df.prior_question_elapsed_time = m\n",
    "    return df"
   ]
  },
  {
   "cell_type": "code",
   "execution_count": 9,
   "metadata": {},
   "outputs": [
    {
     "data": {
      "text/html": [
       "<div>\n",
       "<style scoped>\n",
       "    .dataframe tbody tr th:only-of-type {\n",
       "        vertical-align: middle;\n",
       "    }\n",
       "\n",
       "    .dataframe tbody tr th {\n",
       "        vertical-align: top;\n",
       "    }\n",
       "\n",
       "    .dataframe thead th {\n",
       "        text-align: right;\n",
       "    }\n",
       "</style>\n",
       "<table border=\"1\" class=\"dataframe\">\n",
       "  <thead>\n",
       "    <tr style=\"text-align: right;\">\n",
       "      <th></th>\n",
       "      <th>timestamp</th>\n",
       "      <th>user_id</th>\n",
       "      <th>content_id</th>\n",
       "      <th>content_type_id</th>\n",
       "      <th>task_container_id</th>\n",
       "      <th>user_answer</th>\n",
       "      <th>answered_correctly</th>\n",
       "      <th>prior_question_elapsed_time</th>\n",
       "      <th>prior_question_had_explanation</th>\n",
       "    </tr>\n",
       "  </thead>\n",
       "  <tbody>\n",
       "    <tr>\n",
       "      <th>0</th>\n",
       "      <td>0</td>\n",
       "      <td>1864702</td>\n",
       "      <td>5720</td>\n",
       "      <td>False</td>\n",
       "      <td>0</td>\n",
       "      <td>1</td>\n",
       "      <td>1</td>\n",
       "      <td>False</td>\n",
       "      <td>False</td>\n",
       "    </tr>\n",
       "    <tr>\n",
       "      <th>1</th>\n",
       "      <td>45951</td>\n",
       "      <td>1864702</td>\n",
       "      <td>5204</td>\n",
       "      <td>False</td>\n",
       "      <td>1</td>\n",
       "      <td>1</td>\n",
       "      <td>0</td>\n",
       "      <td>inf</td>\n",
       "      <td>False</td>\n",
       "    </tr>\n",
       "  </tbody>\n",
       "</table>\n",
       "</div>"
      ],
      "text/plain": [
       "   timestamp  user_id  content_id  content_type_id  task_container_id  \\\n",
       "0          0  1864702        5720            False                  0   \n",
       "1      45951  1864702        5204            False                  1   \n",
       "\n",
       "   user_answer  answered_correctly prior_question_elapsed_time  \\\n",
       "0            1                   1                       False   \n",
       "1            1                   0                         inf   \n",
       "\n",
       "   prior_question_had_explanation  \n",
       "0                           False  \n",
       "1                           False  "
      ]
     },
     "execution_count": 9,
     "metadata": {},
     "output_type": "execute_result"
    }
   ],
   "source": [
    "# Print the first 2 row of the train\n",
    "df_train.head(2)"
   ]
  },
  {
   "cell_type": "code",
   "execution_count": 11,
   "metadata": {},
   "outputs": [
    {
     "data": {
      "text/html": [
       "<div>\n",
       "<style scoped>\n",
       "    .dataframe tbody tr th:only-of-type {\n",
       "        vertical-align: middle;\n",
       "    }\n",
       "\n",
       "    .dataframe tbody tr th {\n",
       "        vertical-align: top;\n",
       "    }\n",
       "\n",
       "    .dataframe thead th {\n",
       "        text-align: right;\n",
       "    }\n",
       "</style>\n",
       "<table border=\"1\" class=\"dataframe\">\n",
       "  <thead>\n",
       "    <tr style=\"text-align: right;\">\n",
       "      <th></th>\n",
       "      <th>timestamp</th>\n",
       "      <th>user_id</th>\n",
       "      <th>content_id</th>\n",
       "      <th>content_type_id</th>\n",
       "      <th>task_container_id</th>\n",
       "      <th>user_answer</th>\n",
       "      <th>answered_correctly</th>\n",
       "      <th>prior_question_elapsed_time</th>\n",
       "      <th>prior_question_had_explanation</th>\n",
       "    </tr>\n",
       "  </thead>\n",
       "  <tbody>\n",
       "    <tr>\n",
       "      <th>0</th>\n",
       "      <td>0</td>\n",
       "      <td>1864702</td>\n",
       "      <td>5720</td>\n",
       "      <td>False</td>\n",
       "      <td>0</td>\n",
       "      <td>1</td>\n",
       "      <td>1</td>\n",
       "      <td>False</td>\n",
       "      <td>False</td>\n",
       "    </tr>\n",
       "    <tr>\n",
       "      <th>1</th>\n",
       "      <td>45951</td>\n",
       "      <td>1864702</td>\n",
       "      <td>5204</td>\n",
       "      <td>False</td>\n",
       "      <td>1</td>\n",
       "      <td>1</td>\n",
       "      <td>0</td>\n",
       "      <td>0</td>\n",
       "      <td>False</td>\n",
       "    </tr>\n",
       "  </tbody>\n",
       "</table>\n",
       "</div>"
      ],
      "text/plain": [
       "   timestamp  user_id  content_id  content_type_id  task_container_id  \\\n",
       "0          0  1864702        5720            False                  0   \n",
       "1      45951  1864702        5204            False                  1   \n",
       "\n",
       "   user_answer  answered_correctly prior_question_elapsed_time  \\\n",
       "0            1                   1                       False   \n",
       "1            1                   0                           0   \n",
       "\n",
       "   prior_question_had_explanation  \n",
       "0                           False  \n",
       "1                           False  "
      ]
     },
     "execution_count": 11,
     "metadata": {},
     "output_type": "execute_result"
    }
   ],
   "source": [
    "# Test the function on train\n",
    "train = handle_inf(df_train)\n",
    "train.head(2)"
   ]
  },
  {
   "cell_type": "code",
   "execution_count": 12,
   "metadata": {},
   "outputs": [],
   "source": [
    "# Apply the function on validate and test\n",
    "\n",
    "validate = handle_inf(validate)\n",
    "test = handle_inf(test)"
   ]
  },
  {
   "cell_type": "code",
   "execution_count": 13,
   "metadata": {},
   "outputs": [],
   "source": [
    "# Define a function to drop the lecture rows\n",
    "\n",
    "def drop_lecture_rows(df):\n",
    "    '''\n",
    "    Drop the lecture rows in the dataframe\n",
    "    '''\n",
    "    mask = df['answered_correctly'] != -1\n",
    "    df = df[mask]\n",
    "    return df"
   ]
  },
  {
   "cell_type": "code",
   "execution_count": 14,
   "metadata": {},
   "outputs": [
    {
     "name": "stdout",
     "output_type": "stream",
     "text": [
      "Shape of train dataset before dropping the rows:  (411517, 9)\n",
      "Shape of train dataset after dropping the rows:  (403377, 9)\n"
     ]
    }
   ],
   "source": [
    "# Test the function on df_train\n",
    "\n",
    "print(\"Shape of train dataset before dropping the rows: \", df_train.shape)\n",
    "train = drop_lecture_rows(df_train)\n",
    "print(\"Shape of train dataset after dropping the rows: \", train.shape)"
   ]
  },
  {
   "cell_type": "code",
   "execution_count": 15,
   "metadata": {},
   "outputs": [
    {
     "name": "stdout",
     "output_type": "stream",
     "text": [
      "Shape of validate dataset before dropping the rows:  (50842, 9)\n",
      "Shape of validate dataset after dropping the rows:  (49945, 9)\n",
      "Shape of test dataset before dropping the rows:  (52868, 9)\n",
      "Shape of test dataset after dropping the rows:  (51971, 9)\n"
     ]
    }
   ],
   "source": [
    "# Apply the fucntion on df_validate and df_test\n",
    "\n",
    "print(\"Shape of validate dataset before dropping the rows: \", df_validate.shape)\n",
    "validate = drop_lecture_rows(df_validate)\n",
    "print(\"Shape of validate dataset after dropping the rows: \", validate.shape)\n",
    "\n",
    "print(\"Shape of test dataset before dropping the rows: \", df_test.shape)\n",
    "test = drop_lecture_rows(df_test)\n",
    "print(\"Shape of test dataset after dropping the rows: \", test.shape)"
   ]
  },
  {
   "cell_type": "code",
   "execution_count": 16,
   "metadata": {},
   "outputs": [
    {
     "data": {
      "text/html": [
       "<div>\n",
       "<style scoped>\n",
       "    .dataframe tbody tr th:only-of-type {\n",
       "        vertical-align: middle;\n",
       "    }\n",
       "\n",
       "    .dataframe tbody tr th {\n",
       "        vertical-align: top;\n",
       "    }\n",
       "\n",
       "    .dataframe thead th {\n",
       "        text-align: right;\n",
       "    }\n",
       "</style>\n",
       "<table border=\"1\" class=\"dataframe\">\n",
       "  <thead>\n",
       "    <tr style=\"text-align: right;\">\n",
       "      <th></th>\n",
       "      <th>question_id</th>\n",
       "      <th>bundle_id</th>\n",
       "      <th>correct_answer</th>\n",
       "      <th>part</th>\n",
       "      <th>tags</th>\n",
       "      <th>tag_count</th>\n",
       "    </tr>\n",
       "  </thead>\n",
       "  <tbody>\n",
       "    <tr>\n",
       "      <th>0</th>\n",
       "      <td>0</td>\n",
       "      <td>0</td>\n",
       "      <td>0</td>\n",
       "      <td>1</td>\n",
       "      <td>51 131 162 38</td>\n",
       "      <td>4</td>\n",
       "    </tr>\n",
       "    <tr>\n",
       "      <th>1</th>\n",
       "      <td>1</td>\n",
       "      <td>1</td>\n",
       "      <td>1</td>\n",
       "      <td>1</td>\n",
       "      <td>131 36 81</td>\n",
       "      <td>3</td>\n",
       "    </tr>\n",
       "  </tbody>\n",
       "</table>\n",
       "</div>"
      ],
      "text/plain": [
       "   question_id  bundle_id  correct_answer  part           tags  tag_count\n",
       "0            0          0               0     1  51 131 162 38          4\n",
       "1            1          1               1     1      131 36 81          3"
      ]
     },
     "execution_count": 16,
     "metadata": {},
     "output_type": "execute_result"
    }
   ],
   "source": [
    "# Print the first 2 rows in questions dataframe\n",
    "df_ques.head(2)"
   ]
  },
  {
   "cell_type": "code",
   "execution_count": 17,
   "metadata": {},
   "outputs": [
    {
     "data": {
      "text/html": [
       "<div>\n",
       "<style scoped>\n",
       "    .dataframe tbody tr th:only-of-type {\n",
       "        vertical-align: middle;\n",
       "    }\n",
       "\n",
       "    .dataframe tbody tr th {\n",
       "        vertical-align: top;\n",
       "    }\n",
       "\n",
       "    .dataframe thead th {\n",
       "        text-align: right;\n",
       "    }\n",
       "</style>\n",
       "<table border=\"1\" class=\"dataframe\">\n",
       "  <thead>\n",
       "    <tr style=\"text-align: right;\">\n",
       "      <th></th>\n",
       "      <th>lecture_id</th>\n",
       "      <th>tag</th>\n",
       "      <th>part</th>\n",
       "      <th>type_of</th>\n",
       "      <th>part_content</th>\n",
       "    </tr>\n",
       "  </thead>\n",
       "  <tbody>\n",
       "    <tr>\n",
       "      <th>0</th>\n",
       "      <td>89</td>\n",
       "      <td>159</td>\n",
       "      <td>5</td>\n",
       "      <td>concept</td>\n",
       "      <td>Incomplete Sentences</td>\n",
       "    </tr>\n",
       "    <tr>\n",
       "      <th>1</th>\n",
       "      <td>100</td>\n",
       "      <td>70</td>\n",
       "      <td>1</td>\n",
       "      <td>concept</td>\n",
       "      <td>Photographs</td>\n",
       "    </tr>\n",
       "  </tbody>\n",
       "</table>\n",
       "</div>"
      ],
      "text/plain": [
       "   lecture_id  tag  part  type_of          part_content\n",
       "0          89  159     5  concept  Incomplete Sentences\n",
       "1         100   70     1  concept           Photographs"
      ]
     },
     "execution_count": 17,
     "metadata": {},
     "output_type": "execute_result"
    }
   ],
   "source": [
    "# Print the first 2 rows in lectures table\n",
    "df_lecs.head(2)"
   ]
  },
  {
   "cell_type": "markdown",
   "metadata": {},
   "source": [
    "**Takeaways**\n",
    "1. Because the lecture rows have been dropped in the train,validate, and test for the purpose of modeling, there is no need to join the lectures table. "
   ]
  },
  {
   "cell_type": "code",
   "execution_count": 18,
   "metadata": {},
   "outputs": [
    {
     "name": "stdout",
     "output_type": "stream",
     "text": [
      "(403377, 15)\n"
     ]
    },
    {
     "data": {
      "text/html": [
       "<div>\n",
       "<style scoped>\n",
       "    .dataframe tbody tr th:only-of-type {\n",
       "        vertical-align: middle;\n",
       "    }\n",
       "\n",
       "    .dataframe tbody tr th {\n",
       "        vertical-align: top;\n",
       "    }\n",
       "\n",
       "    .dataframe thead th {\n",
       "        text-align: right;\n",
       "    }\n",
       "</style>\n",
       "<table border=\"1\" class=\"dataframe\">\n",
       "  <thead>\n",
       "    <tr style=\"text-align: right;\">\n",
       "      <th></th>\n",
       "      <th>timestamp</th>\n",
       "      <th>user_id</th>\n",
       "      <th>content_id</th>\n",
       "      <th>content_type_id</th>\n",
       "      <th>task_container_id</th>\n",
       "      <th>user_answer</th>\n",
       "      <th>answered_correctly</th>\n",
       "      <th>prior_question_elapsed_time</th>\n",
       "      <th>prior_question_had_explanation</th>\n",
       "      <th>question_id</th>\n",
       "      <th>bundle_id</th>\n",
       "      <th>correct_answer</th>\n",
       "      <th>part</th>\n",
       "      <th>tags</th>\n",
       "      <th>tag_count</th>\n",
       "    </tr>\n",
       "  </thead>\n",
       "  <tbody>\n",
       "    <tr>\n",
       "      <th>0</th>\n",
       "      <td>0</td>\n",
       "      <td>1864702</td>\n",
       "      <td>5720</td>\n",
       "      <td>False</td>\n",
       "      <td>0</td>\n",
       "      <td>1</td>\n",
       "      <td>1</td>\n",
       "      <td>False</td>\n",
       "      <td>False</td>\n",
       "      <td>5720</td>\n",
       "      <td>5720</td>\n",
       "      <td>1</td>\n",
       "      <td>5</td>\n",
       "      <td>115</td>\n",
       "      <td>1</td>\n",
       "    </tr>\n",
       "    <tr>\n",
       "      <th>1</th>\n",
       "      <td>45951</td>\n",
       "      <td>1864702</td>\n",
       "      <td>5204</td>\n",
       "      <td>False</td>\n",
       "      <td>1</td>\n",
       "      <td>1</td>\n",
       "      <td>0</td>\n",
       "      <td>0</td>\n",
       "      <td>False</td>\n",
       "      <td>5204</td>\n",
       "      <td>5204</td>\n",
       "      <td>3</td>\n",
       "      <td>5</td>\n",
       "      <td>173</td>\n",
       "      <td>1</td>\n",
       "    </tr>\n",
       "    <tr>\n",
       "      <th>2</th>\n",
       "      <td>74342</td>\n",
       "      <td>1864702</td>\n",
       "      <td>4094</td>\n",
       "      <td>False</td>\n",
       "      <td>2</td>\n",
       "      <td>1</td>\n",
       "      <td>1</td>\n",
       "      <td>43000</td>\n",
       "      <td>False</td>\n",
       "      <td>4094</td>\n",
       "      <td>4094</td>\n",
       "      <td>1</td>\n",
       "      <td>5</td>\n",
       "      <td>1</td>\n",
       "      <td>1</td>\n",
       "    </tr>\n",
       "    <tr>\n",
       "      <th>3</th>\n",
       "      <td>96778</td>\n",
       "      <td>1864702</td>\n",
       "      <td>9699</td>\n",
       "      <td>False</td>\n",
       "      <td>3</td>\n",
       "      <td>0</td>\n",
       "      <td>1</td>\n",
       "      <td>25000</td>\n",
       "      <td>False</td>\n",
       "      <td>9699</td>\n",
       "      <td>9699</td>\n",
       "      <td>0</td>\n",
       "      <td>5</td>\n",
       "      <td>55</td>\n",
       "      <td>1</td>\n",
       "    </tr>\n",
       "    <tr>\n",
       "      <th>4</th>\n",
       "      <td>132969</td>\n",
       "      <td>1864702</td>\n",
       "      <td>5889</td>\n",
       "      <td>False</td>\n",
       "      <td>4</td>\n",
       "      <td>2</td>\n",
       "      <td>0</td>\n",
       "      <td>19000</td>\n",
       "      <td>False</td>\n",
       "      <td>5889</td>\n",
       "      <td>5889</td>\n",
       "      <td>3</td>\n",
       "      <td>5</td>\n",
       "      <td>89</td>\n",
       "      <td>1</td>\n",
       "    </tr>\n",
       "  </tbody>\n",
       "</table>\n",
       "</div>"
      ],
      "text/plain": [
       "   timestamp  user_id  content_id  content_type_id  task_container_id  \\\n",
       "0          0  1864702        5720            False                  0   \n",
       "1      45951  1864702        5204            False                  1   \n",
       "2      74342  1864702        4094            False                  2   \n",
       "3      96778  1864702        9699            False                  3   \n",
       "4     132969  1864702        5889            False                  4   \n",
       "\n",
       "   user_answer  answered_correctly prior_question_elapsed_time  \\\n",
       "0            1                   1                       False   \n",
       "1            1                   0                           0   \n",
       "2            1                   1                       43000   \n",
       "3            0                   1                       25000   \n",
       "4            2                   0                       19000   \n",
       "\n",
       "   prior_question_had_explanation  question_id  bundle_id  correct_answer  \\\n",
       "0                           False         5720       5720               1   \n",
       "1                           False         5204       5204               3   \n",
       "2                           False         4094       4094               1   \n",
       "3                           False         9699       9699               0   \n",
       "4                           False         5889       5889               3   \n",
       "\n",
       "   part tags  tag_count  \n",
       "0     5  115          1  \n",
       "1     5  173          1  \n",
       "2     5    1          1  \n",
       "3     5   55          1  \n",
       "4     5   89          1  "
      ]
     },
     "execution_count": 18,
     "metadata": {},
     "output_type": "execute_result"
    }
   ],
   "source": [
    "# Concat the train with questions_with_tag_counts.csv\n",
    "train = train.merge(df_ques, how='left', left_on='content_id', right_on='question_id')\n",
    "\n",
    "# Print the shape of the merged dataset\n",
    "print(train.shape)\n",
    "\n",
    "# Print the first 5 rows\n",
    "train.head()"
   ]
  },
  {
   "cell_type": "code",
   "execution_count": 33,
   "metadata": {},
   "outputs": [
    {
     "data": {
      "text/plain": [
       "timestamp                         0\n",
       "user_id                           0\n",
       "content_id                        0\n",
       "content_type_id                   0\n",
       "task_container_id                 0\n",
       "user_answer                       0\n",
       "answered_correctly                0\n",
       "prior_question_elapsed_time       0\n",
       "prior_question_had_explanation    0\n",
       "question_id                       0\n",
       "bundle_id                         0\n",
       "correct_answer                    0\n",
       "part                              0\n",
       "tags                              0\n",
       "tag_count                         0\n",
       "dtype: int64"
      ]
     },
     "execution_count": 33,
     "metadata": {},
     "output_type": "execute_result"
    }
   ],
   "source": [
    "# Any null values produced during the merge?\n",
    "train.isnull().sum(axis=0)"
   ]
  },
  {
   "cell_type": "markdown",
   "metadata": {},
   "source": [
    "**After the lecture rows are dropped, in the merged train dataset**\n",
    "1. The content id is the same as the question id. \n",
    "2. No missing values exist. "
   ]
  },
  {
   "cell_type": "markdown",
   "metadata": {},
   "source": [
    "### Create Four New Features\n",
    "1. Accuracy on every bundle\n",
    "2. Accuracy on each part\n",
    "3. Accuracy on the count of tags\n",
    "4. Accuracy on the every tag\n",
    "4. Cumulative user accuracy using exponentially weighted mean"
   ]
  },
  {
   "cell_type": "code",
   "execution_count": 56,
   "metadata": {},
   "outputs": [
    {
     "data": {
      "text/html": [
       "<div>\n",
       "<style scoped>\n",
       "    .dataframe tbody tr th:only-of-type {\n",
       "        vertical-align: middle;\n",
       "    }\n",
       "\n",
       "    .dataframe tbody tr th {\n",
       "        vertical-align: top;\n",
       "    }\n",
       "\n",
       "    .dataframe thead th {\n",
       "        text-align: right;\n",
       "    }\n",
       "</style>\n",
       "<table border=\"1\" class=\"dataframe\">\n",
       "  <thead>\n",
       "    <tr style=\"text-align: right;\">\n",
       "      <th></th>\n",
       "      <th>timestamp</th>\n",
       "      <th>user_id</th>\n",
       "      <th>content_id</th>\n",
       "      <th>content_type_id</th>\n",
       "      <th>task_container_id</th>\n",
       "      <th>user_answer</th>\n",
       "      <th>answered_correctly</th>\n",
       "      <th>prior_question_elapsed_time</th>\n",
       "      <th>prior_question_had_explanation</th>\n",
       "      <th>question_id</th>\n",
       "      <th>bundle_id</th>\n",
       "      <th>correct_answer</th>\n",
       "      <th>part</th>\n",
       "      <th>tags</th>\n",
       "      <th>tag_count</th>\n",
       "    </tr>\n",
       "  </thead>\n",
       "  <tbody>\n",
       "    <tr>\n",
       "      <th>193058</th>\n",
       "      <td>852047505</td>\n",
       "      <td>1003355491</td>\n",
       "      <td>3075</td>\n",
       "      <td>False</td>\n",
       "      <td>227</td>\n",
       "      <td>0</td>\n",
       "      <td>1</td>\n",
       "      <td>30340</td>\n",
       "      <td>True</td>\n",
       "      <td>3075</td>\n",
       "      <td>3075</td>\n",
       "      <td>0</td>\n",
       "      <td>4</td>\n",
       "      <td>74 183 92</td>\n",
       "      <td>3</td>\n",
       "    </tr>\n",
       "    <tr>\n",
       "      <th>30879</th>\n",
       "      <td>352377070</td>\n",
       "      <td>81880241</td>\n",
       "      <td>5356</td>\n",
       "      <td>False</td>\n",
       "      <td>8</td>\n",
       "      <td>3</td>\n",
       "      <td>1</td>\n",
       "      <td>8000</td>\n",
       "      <td>True</td>\n",
       "      <td>5356</td>\n",
       "      <td>5356</td>\n",
       "      <td>3</td>\n",
       "      <td>5</td>\n",
       "      <td>55</td>\n",
       "      <td>1</td>\n",
       "    </tr>\n",
       "    <tr>\n",
       "      <th>81444</th>\n",
       "      <td>19075747542</td>\n",
       "      <td>336720047</td>\n",
       "      <td>648</td>\n",
       "      <td>False</td>\n",
       "      <td>2482</td>\n",
       "      <td>1</td>\n",
       "      <td>1</td>\n",
       "      <td>18000</td>\n",
       "      <td>True</td>\n",
       "      <td>648</td>\n",
       "      <td>648</td>\n",
       "      <td>1</td>\n",
       "      <td>2</td>\n",
       "      <td>90 100 81 29</td>\n",
       "      <td>4</td>\n",
       "    </tr>\n",
       "    <tr>\n",
       "      <th>400373</th>\n",
       "      <td>664009</td>\n",
       "      <td>2132212188</td>\n",
       "      <td>6878</td>\n",
       "      <td>False</td>\n",
       "      <td>14</td>\n",
       "      <td>0</td>\n",
       "      <td>0</td>\n",
       "      <td>51000</td>\n",
       "      <td>False</td>\n",
       "      <td>6878</td>\n",
       "      <td>6877</td>\n",
       "      <td>1</td>\n",
       "      <td>6</td>\n",
       "      <td>65</td>\n",
       "      <td>1</td>\n",
       "    </tr>\n",
       "    <tr>\n",
       "      <th>47282</th>\n",
       "      <td>1595813131</td>\n",
       "      <td>162204275</td>\n",
       "      <td>5660</td>\n",
       "      <td>False</td>\n",
       "      <td>286</td>\n",
       "      <td>2</td>\n",
       "      <td>0</td>\n",
       "      <td>0</td>\n",
       "      <td>True</td>\n",
       "      <td>5660</td>\n",
       "      <td>5660</td>\n",
       "      <td>3</td>\n",
       "      <td>5</td>\n",
       "      <td>4</td>\n",
       "      <td>1</td>\n",
       "    </tr>\n",
       "  </tbody>\n",
       "</table>\n",
       "</div>"
      ],
      "text/plain": [
       "          timestamp     user_id  content_id  content_type_id  \\\n",
       "193058    852047505  1003355491        3075            False   \n",
       "30879     352377070    81880241        5356            False   \n",
       "81444   19075747542   336720047         648            False   \n",
       "400373       664009  2132212188        6878            False   \n",
       "47282    1595813131   162204275        5660            False   \n",
       "\n",
       "        task_container_id  user_answer  answered_correctly  \\\n",
       "193058                227            0                   1   \n",
       "30879                   8            3                   1   \n",
       "81444                2482            1                   1   \n",
       "400373                 14            0                   0   \n",
       "47282                 286            2                   0   \n",
       "\n",
       "       prior_question_elapsed_time  prior_question_had_explanation  \\\n",
       "193058                       30340                            True   \n",
       "30879                         8000                            True   \n",
       "81444                        18000                            True   \n",
       "400373                       51000                           False   \n",
       "47282                            0                            True   \n",
       "\n",
       "        question_id  bundle_id  correct_answer  part          tags  tag_count  \n",
       "193058         3075       3075               0     4     74 183 92          3  \n",
       "30879          5356       5356               3     5            55          1  \n",
       "81444           648        648               1     2  90 100 81 29          4  \n",
       "400373         6878       6877               1     6            65          1  \n",
       "47282          5660       5660               3     5             4          1  "
      ]
     },
     "execution_count": 56,
     "metadata": {},
     "output_type": "execute_result"
    }
   ],
   "source": [
    "train.sample(5)"
   ]
  },
  {
   "cell_type": "markdown",
   "metadata": {},
   "source": [
    "#### Accuracy on Every Bundle"
   ]
  },
  {
   "cell_type": "code",
   "execution_count": 57,
   "metadata": {},
   "outputs": [
    {
     "data": {
      "text/plain": [
       "306754"
      ]
     },
     "execution_count": 57,
     "metadata": {},
     "output_type": "execute_result"
    }
   ],
   "source": [
    "# Is the bundle_id is the same as question_id\n",
    "(train.question_id == train.bundle_id).sum() # No"
   ]
  },
  {
   "cell_type": "code",
   "execution_count": 49,
   "metadata": {},
   "outputs": [
    {
     "data": {
      "text/html": [
       "<div>\n",
       "<style scoped>\n",
       "    .dataframe tbody tr th:only-of-type {\n",
       "        vertical-align: middle;\n",
       "    }\n",
       "\n",
       "    .dataframe tbody tr th {\n",
       "        vertical-align: top;\n",
       "    }\n",
       "\n",
       "    .dataframe thead th {\n",
       "        text-align: right;\n",
       "    }\n",
       "</style>\n",
       "<table border=\"1\" class=\"dataframe\">\n",
       "  <thead>\n",
       "    <tr style=\"text-align: right;\">\n",
       "      <th></th>\n",
       "      <th>mean_bundle_accuracy</th>\n",
       "      <th>num_questions</th>\n",
       "      <th>std_bundle_accuracy</th>\n",
       "      <th>median_bundle_accuracy</th>\n",
       "      <th>skew_bundle_accuracy</th>\n",
       "    </tr>\n",
       "    <tr>\n",
       "      <th>bundle_id</th>\n",
       "      <th></th>\n",
       "      <th></th>\n",
       "      <th></th>\n",
       "      <th></th>\n",
       "      <th></th>\n",
       "    </tr>\n",
       "  </thead>\n",
       "  <tbody>\n",
       "    <tr>\n",
       "      <th>0</th>\n",
       "      <td>0.888889</td>\n",
       "      <td>45</td>\n",
       "      <td>0.317821</td>\n",
       "      <td>1.0</td>\n",
       "      <td>-2.561045</td>\n",
       "    </tr>\n",
       "    <tr>\n",
       "      <th>1</th>\n",
       "      <td>0.857143</td>\n",
       "      <td>35</td>\n",
       "      <td>0.355036</td>\n",
       "      <td>1.0</td>\n",
       "      <td>-2.133801</td>\n",
       "    </tr>\n",
       "    <tr>\n",
       "      <th>2</th>\n",
       "      <td>0.559809</td>\n",
       "      <td>209</td>\n",
       "      <td>0.497602</td>\n",
       "      <td>1.0</td>\n",
       "      <td>-0.242710</td>\n",
       "    </tr>\n",
       "    <tr>\n",
       "      <th>3</th>\n",
       "      <td>0.732673</td>\n",
       "      <td>101</td>\n",
       "      <td>0.444772</td>\n",
       "      <td>1.0</td>\n",
       "      <td>-1.067396</td>\n",
       "    </tr>\n",
       "    <tr>\n",
       "      <th>4</th>\n",
       "      <td>0.605263</td>\n",
       "      <td>152</td>\n",
       "      <td>0.490410</td>\n",
       "      <td>1.0</td>\n",
       "      <td>-0.435010</td>\n",
       "    </tr>\n",
       "  </tbody>\n",
       "</table>\n",
       "</div>"
      ],
      "text/plain": [
       "           mean_bundle_accuracy  num_questions  std_bundle_accuracy  \\\n",
       "bundle_id                                                             \n",
       "0                      0.888889             45             0.317821   \n",
       "1                      0.857143             35             0.355036   \n",
       "2                      0.559809            209             0.497602   \n",
       "3                      0.732673            101             0.444772   \n",
       "4                      0.605263            152             0.490410   \n",
       "\n",
       "           median_bundle_accuracy  skew_bundle_accuracy  \n",
       "bundle_id                                                \n",
       "0                             1.0             -2.561045  \n",
       "1                             1.0             -2.133801  \n",
       "2                             1.0             -0.242710  \n",
       "3                             1.0             -1.067396  \n",
       "4                             1.0             -0.435010  "
      ]
     },
     "execution_count": 49,
     "metadata": {},
     "output_type": "execute_result"
    }
   ],
   "source": [
    "# Compute the accuracy for every bundle id\n",
    "\n",
    "bundle_stats = train.groupby('bundle_id').answered_correctly.agg(['mean', 'count', 'std', 'median', 'skew'])\n",
    "\n",
    "bundle_stats.columns = ['mean_bundle_accuracy', 'num_questions', 'std_bundle_accuracy', \n",
    "                        'median_bundle_accuracy', 'skew_bundle_accuracy']\n",
    "\n",
    "bundle_stats.head()"
   ]
  },
  {
   "cell_type": "code",
   "execution_count": 50,
   "metadata": {},
   "outputs": [],
   "source": [
    "# # Sava as the bundle_stats.csv\n",
    "# bundle_stats.to_csv(r'data_2000users/bundle_stats.csv')"
   ]
  },
  {
   "cell_type": "markdown",
   "metadata": {},
   "source": [
    "#### Accuracy on Every Part"
   ]
  },
  {
   "cell_type": "code",
   "execution_count": 38,
   "metadata": {},
   "outputs": [
    {
     "data": {
      "text/plain": [
       "7"
      ]
     },
     "execution_count": 38,
     "metadata": {},
     "output_type": "execute_result"
    }
   ],
   "source": [
    "# How many unique tag numbers in the df?\n",
    "df.part.nunique() "
   ]
  },
  {
   "cell_type": "code",
   "execution_count": 51,
   "metadata": {},
   "outputs": [
    {
     "data": {
      "text/html": [
       "<div>\n",
       "<style scoped>\n",
       "    .dataframe tbody tr th:only-of-type {\n",
       "        vertical-align: middle;\n",
       "    }\n",
       "\n",
       "    .dataframe tbody tr th {\n",
       "        vertical-align: top;\n",
       "    }\n",
       "\n",
       "    .dataframe thead th {\n",
       "        text-align: right;\n",
       "    }\n",
       "</style>\n",
       "<table border=\"1\" class=\"dataframe\">\n",
       "  <thead>\n",
       "    <tr style=\"text-align: right;\">\n",
       "      <th></th>\n",
       "      <th>mean_part_accuracy</th>\n",
       "      <th>num_question</th>\n",
       "      <th>std_part_accuracy</th>\n",
       "      <th>median_part_accuracy</th>\n",
       "      <th>skew_part_accuracy</th>\n",
       "    </tr>\n",
       "    <tr>\n",
       "      <th>part</th>\n",
       "      <th></th>\n",
       "      <th></th>\n",
       "      <th></th>\n",
       "      <th></th>\n",
       "      <th></th>\n",
       "    </tr>\n",
       "  </thead>\n",
       "  <tbody>\n",
       "    <tr>\n",
       "      <th>1</th>\n",
       "      <td>0.740719</td>\n",
       "      <td>32270</td>\n",
       "      <td>0.438247</td>\n",
       "      <td>1</td>\n",
       "      <td>-1.098622</td>\n",
       "    </tr>\n",
       "    <tr>\n",
       "      <th>2</th>\n",
       "      <td>0.697932</td>\n",
       "      <td>70759</td>\n",
       "      <td>0.459158</td>\n",
       "      <td>1</td>\n",
       "      <td>-0.862179</td>\n",
       "    </tr>\n",
       "    <tr>\n",
       "      <th>3</th>\n",
       "      <td>0.679698</td>\n",
       "      <td>37933</td>\n",
       "      <td>0.466599</td>\n",
       "      <td>1</td>\n",
       "      <td>-0.770289</td>\n",
       "    </tr>\n",
       "    <tr>\n",
       "      <th>4</th>\n",
       "      <td>0.616874</td>\n",
       "      <td>35380</td>\n",
       "      <td>0.486155</td>\n",
       "      <td>1</td>\n",
       "      <td>-0.480836</td>\n",
       "    </tr>\n",
       "    <tr>\n",
       "      <th>5</th>\n",
       "      <td>0.610488</td>\n",
       "      <td>163705</td>\n",
       "      <td>0.487641</td>\n",
       "      <td>1</td>\n",
       "      <td>-0.453160</td>\n",
       "    </tr>\n",
       "    <tr>\n",
       "      <th>6</th>\n",
       "      <td>0.652369</td>\n",
       "      <td>43037</td>\n",
       "      <td>0.476224</td>\n",
       "      <td>1</td>\n",
       "      <td>-0.639934</td>\n",
       "    </tr>\n",
       "    <tr>\n",
       "      <th>7</th>\n",
       "      <td>0.673089</td>\n",
       "      <td>20293</td>\n",
       "      <td>0.469096</td>\n",
       "      <td>1</td>\n",
       "      <td>-0.738042</td>\n",
       "    </tr>\n",
       "  </tbody>\n",
       "</table>\n",
       "</div>"
      ],
      "text/plain": [
       "      mean_part_accuracy  num_question  std_part_accuracy  \\\n",
       "part                                                        \n",
       "1               0.740719         32270           0.438247   \n",
       "2               0.697932         70759           0.459158   \n",
       "3               0.679698         37933           0.466599   \n",
       "4               0.616874         35380           0.486155   \n",
       "5               0.610488        163705           0.487641   \n",
       "6               0.652369         43037           0.476224   \n",
       "7               0.673089         20293           0.469096   \n",
       "\n",
       "      median_part_accuracy  skew_part_accuracy  \n",
       "part                                            \n",
       "1                        1           -1.098622  \n",
       "2                        1           -0.862179  \n",
       "3                        1           -0.770289  \n",
       "4                        1           -0.480836  \n",
       "5                        1           -0.453160  \n",
       "6                        1           -0.639934  \n",
       "7                        1           -0.738042  "
      ]
     },
     "execution_count": 51,
     "metadata": {},
     "output_type": "execute_result"
    }
   ],
   "source": [
    "# Compute the accuracy on eveary part\n",
    "\n",
    "part_stats = train.groupby('part').answered_correctly.agg(['mean', 'count', 'std', 'median', 'skew'])\n",
    "\n",
    "part_stats.columns = ['mean_part_accuracy', 'num_question', 'std_part_accuracy', \n",
    "                      'median_part_accuracy', 'skew_part_accuracy']\n",
    "\n",
    "part_stats"
   ]
  },
  {
   "cell_type": "code",
   "execution_count": 52,
   "metadata": {},
   "outputs": [],
   "source": [
    "# # Sava as the part_stats.csv\n",
    "# part_stats.to_csv(r'data_2000users/part_stats.csv')"
   ]
  },
  {
   "cell_type": "markdown",
   "metadata": {},
   "source": [
    "#### Accuracy on the count of tags"
   ]
  },
  {
   "cell_type": "code",
   "execution_count": 44,
   "metadata": {},
   "outputs": [
    {
     "data": {
      "text/plain": [
       "6"
      ]
     },
     "execution_count": 44,
     "metadata": {},
     "output_type": "execute_result"
    }
   ],
   "source": [
    "# How many unique count of the tags for each question\n",
    "df.tag_count.nunique() "
   ]
  },
  {
   "cell_type": "code",
   "execution_count": 53,
   "metadata": {},
   "outputs": [
    {
     "data": {
      "text/html": [
       "<div>\n",
       "<style scoped>\n",
       "    .dataframe tbody tr th:only-of-type {\n",
       "        vertical-align: middle;\n",
       "    }\n",
       "\n",
       "    .dataframe tbody tr th {\n",
       "        vertical-align: top;\n",
       "    }\n",
       "\n",
       "    .dataframe thead th {\n",
       "        text-align: right;\n",
       "    }\n",
       "</style>\n",
       "<table border=\"1\" class=\"dataframe\">\n",
       "  <thead>\n",
       "    <tr style=\"text-align: right;\">\n",
       "      <th></th>\n",
       "      <th>mean_tagcount_accuracy</th>\n",
       "      <th>num_questions</th>\n",
       "      <th>std_tagcount_accuracy</th>\n",
       "      <th>median_tagcount_accuracy</th>\n",
       "      <th>skew_tagcount_accuracy</th>\n",
       "    </tr>\n",
       "    <tr>\n",
       "      <th>tag_count</th>\n",
       "      <th></th>\n",
       "      <th></th>\n",
       "      <th></th>\n",
       "      <th></th>\n",
       "      <th></th>\n",
       "    </tr>\n",
       "  </thead>\n",
       "  <tbody>\n",
       "    <tr>\n",
       "      <th>1</th>\n",
       "      <td>0.615325</td>\n",
       "      <td>193821</td>\n",
       "      <td>0.486520</td>\n",
       "      <td>1</td>\n",
       "      <td>-0.474089</td>\n",
       "    </tr>\n",
       "    <tr>\n",
       "      <th>2</th>\n",
       "      <td>0.677716</td>\n",
       "      <td>12942</td>\n",
       "      <td>0.467369</td>\n",
       "      <td>1</td>\n",
       "      <td>-0.760613</td>\n",
       "    </tr>\n",
       "    <tr>\n",
       "      <th>3</th>\n",
       "      <td>0.667953</td>\n",
       "      <td>91767</td>\n",
       "      <td>0.470950</td>\n",
       "      <td>1</td>\n",
       "      <td>-0.713265</td>\n",
       "    </tr>\n",
       "    <tr>\n",
       "      <th>4</th>\n",
       "      <td>0.691331</td>\n",
       "      <td>66547</td>\n",
       "      <td>0.461948</td>\n",
       "      <td>1</td>\n",
       "      <td>-0.828391</td>\n",
       "    </tr>\n",
       "    <tr>\n",
       "      <th>5</th>\n",
       "      <td>0.705149</td>\n",
       "      <td>34431</td>\n",
       "      <td>0.455982</td>\n",
       "      <td>1</td>\n",
       "      <td>-0.899866</td>\n",
       "    </tr>\n",
       "    <tr>\n",
       "      <th>6</th>\n",
       "      <td>0.764022</td>\n",
       "      <td>3869</td>\n",
       "      <td>0.424664</td>\n",
       "      <td>1</td>\n",
       "      <td>-1.244083</td>\n",
       "    </tr>\n",
       "  </tbody>\n",
       "</table>\n",
       "</div>"
      ],
      "text/plain": [
       "           mean_tagcount_accuracy  num_questions  std_tagcount_accuracy  \\\n",
       "tag_count                                                                 \n",
       "1                        0.615325         193821               0.486520   \n",
       "2                        0.677716          12942               0.467369   \n",
       "3                        0.667953          91767               0.470950   \n",
       "4                        0.691331          66547               0.461948   \n",
       "5                        0.705149          34431               0.455982   \n",
       "6                        0.764022           3869               0.424664   \n",
       "\n",
       "           median_tagcount_accuracy  skew_tagcount_accuracy  \n",
       "tag_count                                                    \n",
       "1                                 1               -0.474089  \n",
       "2                                 1               -0.760613  \n",
       "3                                 1               -0.713265  \n",
       "4                                 1               -0.828391  \n",
       "5                                 1               -0.899866  \n",
       "6                                 1               -1.244083  "
      ]
     },
     "execution_count": 53,
     "metadata": {},
     "output_type": "execute_result"
    }
   ],
   "source": [
    "# Compute the accuracy on eveary part\n",
    "\n",
    "tagcount_stats = train.groupby('tag_count').answered_correctly.agg(['mean', 'count', 'std', 'median', 'skew'])\n",
    "\n",
    "tagcount_stats.columns = ['mean_tagcount_accuracy', 'num_questions', 'std_tagcount_accuracy', \n",
    "                          'median_tagcount_accuracy', 'skew_tagcount_accuracy']\n",
    "\n",
    "tagcount_stats"
   ]
  },
  {
   "cell_type": "code",
   "execution_count": 48,
   "metadata": {},
   "outputs": [
    {
     "data": {
      "image/png": "[encoded data removed]",
      "text/plain": [
       "<Figure size 432x288 with 1 Axes>"
      ]
     },
     "metadata": {
      "needs_background": "light"
     },
     "output_type": "display_data"
    }
   ],
   "source": [
    "x = [1,2,3,4,5,6]\n",
    "y = tagcount_stats.mean_tagcount_accuracy\n",
    "plt.plot(x, y)\n",
    "plt.show()"
   ]
  },
  {
   "cell_type": "code",
   "execution_count": 54,
   "metadata": {},
   "outputs": [],
   "source": [
    "# # Sava as the part_stats.csv\n",
    "# tagcount_stats.to_csv(r'data_2000users/tagcount_stats.csv')"
   ]
  },
  {
   "cell_type": "markdown",
   "metadata": {},
   "source": [
    "#### Accuray on question-tags"
   ]
  },
  {
   "cell_type": "code",
   "execution_count": 58,
   "metadata": {},
   "outputs": [
    {
     "data": {
      "text/plain": [
       "1485"
      ]
     },
     "execution_count": 58,
     "metadata": {},
     "output_type": "execute_result"
    }
   ],
   "source": [
    "# Count how many unique question-tags in the dataset\n",
    "train.tags.nunique()"
   ]
  },
  {
   "cell_type": "code",
   "execution_count": 59,
   "metadata": {},
   "outputs": [
    {
     "data": {
      "text/html": [
       "<div>\n",
       "<style scoped>\n",
       "    .dataframe tbody tr th:only-of-type {\n",
       "        vertical-align: middle;\n",
       "    }\n",
       "\n",
       "    .dataframe tbody tr th {\n",
       "        vertical-align: top;\n",
       "    }\n",
       "\n",
       "    .dataframe thead th {\n",
       "        text-align: right;\n",
       "    }\n",
       "</style>\n",
       "<table border=\"1\" class=\"dataframe\">\n",
       "  <thead>\n",
       "    <tr style=\"text-align: right;\">\n",
       "      <th></th>\n",
       "      <th>mean_tags_accuracy</th>\n",
       "      <th>num_questions</th>\n",
       "      <th>std_tags_accuracy</th>\n",
       "      <th>median_tags_accuracy</th>\n",
       "      <th>skew_tags_accuracy</th>\n",
       "    </tr>\n",
       "    <tr>\n",
       "      <th>tags</th>\n",
       "      <th></th>\n",
       "      <th></th>\n",
       "      <th></th>\n",
       "      <th></th>\n",
       "      <th></th>\n",
       "    </tr>\n",
       "  </thead>\n",
       "  <tbody>\n",
       "    <tr>\n",
       "      <th>1</th>\n",
       "      <td>0.600555</td>\n",
       "      <td>9015</td>\n",
       "      <td>0.489812</td>\n",
       "      <td>1.0</td>\n",
       "      <td>-0.410676</td>\n",
       "    </tr>\n",
       "    <tr>\n",
       "      <th>1 162</th>\n",
       "      <td>0.618574</td>\n",
       "      <td>603</td>\n",
       "      <td>0.486140</td>\n",
       "      <td>1.0</td>\n",
       "      <td>-0.489441</td>\n",
       "    </tr>\n",
       "    <tr>\n",
       "      <th>10 111 92</th>\n",
       "      <td>0.703704</td>\n",
       "      <td>27</td>\n",
       "      <td>0.465322</td>\n",
       "      <td>1.0</td>\n",
       "      <td>-0.945583</td>\n",
       "    </tr>\n",
       "    <tr>\n",
       "      <th>10 164 102</th>\n",
       "      <td>0.787500</td>\n",
       "      <td>80</td>\n",
       "      <td>0.411658</td>\n",
       "      <td>1.0</td>\n",
       "      <td>-1.432607</td>\n",
       "    </tr>\n",
       "    <tr>\n",
       "      <th>10 164 162 29</th>\n",
       "      <td>0.937500</td>\n",
       "      <td>48</td>\n",
       "      <td>0.244623</td>\n",
       "      <td>1.0</td>\n",
       "      <td>-3.732451</td>\n",
       "    </tr>\n",
       "  </tbody>\n",
       "</table>\n",
       "</div>"
      ],
      "text/plain": [
       "               mean_tags_accuracy  num_questions  std_tags_accuracy  \\\n",
       "tags                                                                  \n",
       "1                        0.600555           9015           0.489812   \n",
       "1 162                    0.618574            603           0.486140   \n",
       "10 111 92                0.703704             27           0.465322   \n",
       "10 164 102               0.787500             80           0.411658   \n",
       "10 164 162 29            0.937500             48           0.244623   \n",
       "\n",
       "               median_tags_accuracy  skew_tags_accuracy  \n",
       "tags                                                     \n",
       "1                               1.0           -0.410676  \n",
       "1 162                           1.0           -0.489441  \n",
       "10 111 92                       1.0           -0.945583  \n",
       "10 164 102                      1.0           -1.432607  \n",
       "10 164 162 29                   1.0           -3.732451  "
      ]
     },
     "execution_count": 59,
     "metadata": {},
     "output_type": "execute_result"
    }
   ],
   "source": [
    "# Compute the accuracy on eveary part\n",
    "\n",
    "tag_stats = train.groupby('tags').answered_correctly.agg(['mean', 'count', 'std', 'median', 'skew'])\n",
    "\n",
    "tag_stats.columns = ['mean_tags_accuracy', 'num_questions', 'std_tags_accuracy', \n",
    "                     'median_tags_accuracy', 'skew_tags_accuracy']\n",
    "\n",
    "tag_stats.head()"
   ]
  },
  {
   "cell_type": "code",
   "execution_count": 60,
   "metadata": {},
   "outputs": [],
   "source": [
    "# # Sava as the part_stats.csv\n",
    "# tag_stats.to_csv(r'data_2000users/tag_stats.csv')"
   ]
  },
  {
   "cell_type": "markdown",
   "metadata": {},
   "source": [
    "#### How does accuracy changes over time for one user? "
   ]
  }
 ],
 "metadata": {
  "kernelspec": {
   "display_name": "Python 3",
   "language": "python",
   "name": "python3"
  },
  "language_info": {
   "codemirror_mode": {
    "name": "ipython",
    "version": 3
   },
   "file_extension": ".py",
   "mimetype": "text/x-python",
   "name": "python",
   "nbconvert_exporter": "python",
   "pygments_lexer": "ipython3",
   "version": "3.7.6"
  }
 },
 "nbformat": 4,
 "nbformat_minor": 4
}
