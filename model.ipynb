{
 "cells": [
  {
   "cell_type": "code",
   "execution_count": 1,
   "metadata": {},
   "outputs": [],
   "source": [
    "# To ignore the warnings\n",
    "import warnings\n",
    "warnings.filterwarnings(\"ignore\")\n",
    "\n",
    "# Import the libraries to handle the np array and pandas dataframe\n",
    "import numpy as np\n",
    "import pandas as pd\n",
    "import matplotlib.pyplot as plt\n",
    "import seaborn as sns\n",
    "\n",
    "# Import py files\n",
    "import acquire, prepare, explore\n",
    "\n",
    "import psutil\n",
    "from tqdm.notebook import tqdm\n",
    "import gc"
   ]
  },
  {
   "cell_type": "markdown",
   "metadata": {},
   "source": [
    "### Acquire and Prepare the Train/Validate/Test Dataset"
   ]
  },
  {
   "cell_type": "code",
   "execution_count": 2,
   "metadata": {},
   "outputs": [
    {
     "name": "stdout",
     "output_type": "stream",
     "text": [
      "CPU times: user 45 s, sys: 4.12 s, total: 49.1 s\n",
      "Wall time: 49.8 s\n"
     ]
    }
   ],
   "source": [
    "%%time\n",
    "\n",
    "# Define the data types\n",
    "dtypes = {\n",
    "    \"row_id\": \"int64\",\n",
    "    \"timestamp\": \"int64\",\n",
    "    \"user_id\": \"int32\",\n",
    "    \"content_id\": \"int16\", \n",
    "    \"content_type_id\": \"boolean\", \n",
    "    \"task_container_id\": \"int16\",\n",
    "    \"user_answer\": \"int8\", \n",
    "    \"answered_correctly\": \"int8\", \n",
    "    \"prior_question_elapsed_time\": \"float32\"   \n",
    "}\n",
    "\n",
    "# Load train/validate/test\n",
    "df_train = pd.read_csv(\"../Riiid-Project/sampled_trainset.csv\", index_col=0, dtype=dtypes)\n",
    "df_validate = pd.read_csv(\"../Riiid-Project/validate.csv\", index_col=0, dtype=dtypes)\n",
    "df_test = pd.read_csv(\"../Riiid-Project/test.csv\", index_col=0, dtype=dtypes)"
   ]
  },
  {
   "cell_type": "code",
   "execution_count": 3,
   "metadata": {},
   "outputs": [
    {
     "name": "stdout",
     "output_type": "stream",
     "text": [
      "CPU times: user 8.17 ms, sys: 5.25 ms, total: 13.4 ms\n",
      "Wall time: 13.4 ms\n"
     ]
    }
   ],
   "source": [
    "%%time\n",
    "\n",
    "# Define the data types\n",
    "dtypes = {\n",
    "    \"question_id\": \"int16\", \n",
    "    \"bundle_id\": \"int16\",\n",
    "    \"correct_answer\": \"int8\", \n",
    "    \"part\": \"int8\", \n",
    "    \"tags\": \"object\", \n",
    "    \"tag_count\": \"int8\"    \n",
    "    }\n",
    "\n",
    "# Load questions dataset\n",
    "df_ques = pd.read_csv('questions_with_tag_counts.csv', index_col=0, dtype=dtypes)"
   ]
  },
  {
   "cell_type": "code",
   "execution_count": 4,
   "metadata": {},
   "outputs": [
    {
     "name": "stdout",
     "output_type": "stream",
     "text": [
      "<class 'pandas.core.frame.DataFrame'>\n",
      "Int64Index: 20964878 entries, 0 to 13083813322\n",
      "Data columns (total 17 columns):\n",
      " #   Column                          Dtype  \n",
      "---  ------                          -----  \n",
      " 0   user_id                         int32  \n",
      " 1   content_id                      int16  \n",
      " 2   content_type_id                 boolean\n",
      " 3   task_container_id               int16  \n",
      " 4   user_answer                     int8   \n",
      " 5   answered_correctly              int8   \n",
      " 6   prior_question_elapsed_time     float32\n",
      " 7   prior_question_had_explanation  object \n",
      " 8   lecture_id                      float64\n",
      " 9   tag                             float64\n",
      " 10  lecture_part                    float64\n",
      " 11  type_of                         object \n",
      " 12  question_id                     float64\n",
      " 13  bundle_id                       float64\n",
      " 14  correct_answer                  float64\n",
      " 15  question_part                   float64\n",
      " 16  tags                            object \n",
      "dtypes: boolean(1), float32(1), float64(7), int16(2), int32(1), int8(2), object(3)\n",
      "memory usage: 2.0+ GB\n"
     ]
    }
   ],
   "source": [
    "# Print the information of df_train\n",
    "df_train.info()"
   ]
  },
  {
   "cell_type": "code",
   "execution_count": 5,
   "metadata": {},
   "outputs": [
    {
     "name": "stdout",
     "output_type": "stream",
     "text": [
      "CPU times: user 492 ms, sys: 449 ms, total: 941 ms\n",
      "Wall time: 1.03 s\n"
     ]
    }
   ],
   "source": [
    "%%time\n",
    "\n",
    "# Drop columns that are not needed\n",
    "\n",
    "cols = ['lecture_id', 'tag', 'lecture_part','type_of', 'question_id', 'bundle_id', \n",
    "        'correct_answer', 'question_part', 'tags', 'content_type_id', 'user_answer']\n",
    "\n",
    "df_train.drop(columns=cols, inplace=True)\n",
    "df_validate.drop(columns=cols, inplace=True)\n",
    "df_test.drop(columns=cols, inplace=True)"
   ]
  },
  {
   "cell_type": "code",
   "execution_count": 6,
   "metadata": {},
   "outputs": [
    {
     "name": "stdout",
     "output_type": "stream",
     "text": [
      "<class 'pandas.core.frame.DataFrame'>\n",
      "Int64Index: 20964878 entries, 0 to 13083813322\n",
      "Data columns (total 6 columns):\n",
      " #   Column                          Dtype  \n",
      "---  ------                          -----  \n",
      " 0   user_id                         int32  \n",
      " 1   content_id                      int16  \n",
      " 2   task_container_id               int16  \n",
      " 3   answered_correctly              int8   \n",
      " 4   prior_question_elapsed_time     float32\n",
      " 5   prior_question_had_explanation  object \n",
      "dtypes: float32(1), int16(2), int32(1), int8(1), object(1)\n",
      "memory usage: 579.8+ MB\n"
     ]
    }
   ],
   "source": [
    "# Print the information of df_train\n",
    "df_train.info()"
   ]
  },
  {
   "cell_type": "code",
   "execution_count": 7,
   "metadata": {},
   "outputs": [
    {
     "name": "stdout",
     "output_type": "stream",
     "text": [
      "<class 'pandas.core.frame.DataFrame'>\n",
      "Int64Index: 13523 entries, 0 to 13522\n",
      "Data columns (total 6 columns):\n",
      " #   Column          Non-Null Count  Dtype \n",
      "---  ------          --------------  ----- \n",
      " 0   question_id     13523 non-null  int16 \n",
      " 1   bundle_id       13523 non-null  int16 \n",
      " 2   correct_answer  13523 non-null  int8  \n",
      " 3   part            13523 non-null  int8  \n",
      " 4   tags            13522 non-null  object\n",
      " 5   tag_count       13523 non-null  int8  \n",
      "dtypes: int16(2), int8(3), object(1)\n",
      "memory usage: 303.7+ KB\n"
     ]
    }
   ],
   "source": [
    "# Print the information of df_ques\n",
    "df_ques.info()"
   ]
  },
  {
   "cell_type": "code",
   "execution_count": 8,
   "metadata": {},
   "outputs": [
    {
     "name": "stdout",
     "output_type": "stream",
     "text": [
      "CPU times: user 1.05 s, sys: 480 ms, total: 1.53 s\n",
      "Wall time: 1.74 s\n"
     ]
    }
   ],
   "source": [
    "%%time\n",
    "# Drop lecture rows\n",
    "\n",
    "mask = (df_train.answered_correctly != -1)\n",
    "df_train = df_train[mask]\n",
    "\n",
    "mask = (df_validate.answered_correctly != -1)\n",
    "df_validate = df_validate[mask]\n",
    "\n",
    "mask = (df_test.answered_correctly != -1)\n",
    "df_test = df_test[mask]"
   ]
  },
  {
   "cell_type": "code",
   "execution_count": 9,
   "metadata": {},
   "outputs": [
    {
     "name": "stdout",
     "output_type": "stream",
     "text": [
      "<class 'pandas.core.frame.DataFrame'>\n",
      "Int64Index: 20554519 entries, 0 to 20554518\n",
      "Data columns (total 12 columns):\n",
      " #   Column                          Dtype  \n",
      "---  ------                          -----  \n",
      " 0   user_id                         int32  \n",
      " 1   content_id                      int16  \n",
      " 2   task_container_id               int16  \n",
      " 3   answered_correctly              int8   \n",
      " 4   prior_question_elapsed_time     float32\n",
      " 5   prior_question_had_explanation  object \n",
      " 6   question_id                     int16  \n",
      " 7   bundle_id                       int16  \n",
      " 8   correct_answer                  int8   \n",
      " 9   part                            int8   \n",
      " 10  tags                            object \n",
      " 11  tag_count                       int8   \n",
      "dtypes: float32(1), int16(4), int32(1), int8(4), object(2)\n",
      "memory usage: 862.5+ MB\n",
      "CPU times: user 3.05 s, sys: 982 ms, total: 4.04 s\n",
      "Wall time: 4.05 s\n"
     ]
    }
   ],
   "source": [
    "%%time\n",
    "\n",
    "# Merge df_train and df_ques\n",
    "df_train = df_train.merge(df_ques, how='left', left_on='content_id', right_on='question_id')\n",
    "df_train.info()"
   ]
  },
  {
   "cell_type": "code",
   "execution_count": 12,
   "metadata": {},
   "outputs": [
    {
     "data": {
      "text/plain": [
       "user_id                               0\n",
       "content_id                            0\n",
       "task_container_id                     0\n",
       "answered_correctly                    0\n",
       "prior_question_elapsed_time       99720\n",
       "prior_question_had_explanation    99720\n",
       "question_id                           0\n",
       "bundle_id                             0\n",
       "correct_answer                        0\n",
       "part                                  0\n",
       "tags                                  1\n",
       "tag_count                             0\n",
       "dtype: int64"
      ]
     },
     "execution_count": 12,
     "metadata": {},
     "output_type": "execute_result"
    }
   ],
   "source": [
    "# Check the nulls in df_train\n",
    "df_train.isnull().sum(axis=0)"
   ]
  },
  {
   "cell_type": "code",
   "execution_count": 61,
   "metadata": {},
   "outputs": [
    {
     "name": "stdout",
     "output_type": "stream",
     "text": [
      "CPU times: user 759 ms, sys: 280 ms, total: 1.04 s\n",
      "Wall time: 1.08 s\n"
     ]
    }
   ],
   "source": [
    "%%time\n",
    "\n",
    "# Merge df_train and df_ques\n",
    "df_validate = df_validate.merge(df_ques, how='left', left_on='content_id', right_on='question_id')\n",
    "df_test = df_test.merge(df_ques, how='left', left_on='content_id', right_on='question_id')"
   ]
  },
  {
   "cell_type": "code",
   "execution_count": 13,
   "metadata": {},
   "outputs": [
    {
     "data": {
      "text/plain": [
       "user_id                           0\n",
       "content_id                        0\n",
       "task_container_id                 0\n",
       "answered_correctly                0\n",
       "prior_question_elapsed_time       0\n",
       "prior_question_had_explanation    0\n",
       "dtype: int64"
      ]
     },
     "execution_count": 13,
     "metadata": {},
     "output_type": "execute_result"
    }
   ],
   "source": [
    "# Check the nulls in df_validate\n",
    "df_validate.isnull().sum(axis=0)"
   ]
  },
  {
   "cell_type": "code",
   "execution_count": 14,
   "metadata": {},
   "outputs": [
    {
     "data": {
      "text/plain": [
       "user_id                           0\n",
       "content_id                        0\n",
       "task_container_id                 0\n",
       "answered_correctly                0\n",
       "prior_question_elapsed_time       0\n",
       "prior_question_had_explanation    0\n",
       "dtype: int64"
      ]
     },
     "execution_count": 14,
     "metadata": {},
     "output_type": "execute_result"
    }
   ],
   "source": [
    "# Check the nulls in df_test\n",
    "df_test.isnull().sum(axis=0)"
   ]
  },
  {
   "cell_type": "code",
   "execution_count": 15,
   "metadata": {},
   "outputs": [
    {
     "name": "stdout",
     "output_type": "stream",
     "text": [
      "<class 'pandas.core.frame.DataFrame'>\n",
      "Int64Index: 20554519 entries, 0 to 20554518\n",
      "Data columns (total 12 columns):\n",
      " #   Column                          Dtype  \n",
      "---  ------                          -----  \n",
      " 0   user_id                         int32  \n",
      " 1   content_id                      int16  \n",
      " 2   task_container_id               int16  \n",
      " 3   answered_correctly              int8   \n",
      " 4   prior_question_elapsed_time     float32\n",
      " 5   prior_question_had_explanation  bool   \n",
      " 6   question_id                     int16  \n",
      " 7   bundle_id                       int16  \n",
      " 8   correct_answer                  int8   \n",
      " 9   part                            int8   \n",
      " 10  tags                            object \n",
      " 11  tag_count                       int8   \n",
      "dtypes: bool(1), float32(1), int16(4), int32(1), int8(4), object(1)\n",
      "memory usage: 725.3+ MB\n",
      "CPU times: user 1.28 s, sys: 20.4 ms, total: 1.3 s\n",
      "Wall time: 1.31 s\n"
     ]
    }
   ],
   "source": [
    "%%time\n",
    "\n",
    "# Fill the missing value in col `prior_question_elapsed_time` with 0\n",
    "df_train.prior_question_elapsed_time.fillna(0, inplace=True)\n",
    "\n",
    "# Fill the missing value in col `prior_question_had_explanation` with False\n",
    "df_train.prior_question_had_explanation.fillna(False, inplace=True)\n",
    "\n",
    "# Print the information of df_train\n",
    "df_train.info()"
   ]
  },
  {
   "cell_type": "code",
   "execution_count": 17,
   "metadata": {},
   "outputs": [
    {
     "data": {
      "text/plain": [
       "user_id                           0\n",
       "content_id                        0\n",
       "task_container_id                 0\n",
       "answered_correctly                0\n",
       "prior_question_elapsed_time       0\n",
       "prior_question_had_explanation    0\n",
       "question_id                       0\n",
       "bundle_id                         0\n",
       "correct_answer                    0\n",
       "part                              0\n",
       "tags                              1\n",
       "tag_count                         0\n",
       "dtype: int64"
      ]
     },
     "execution_count": 17,
     "metadata": {},
     "output_type": "execute_result"
    }
   ],
   "source": [
    "# Check the nulls in df_train\n",
    "df_train.isnull().sum(axis=0)"
   ]
  },
  {
   "cell_type": "markdown",
   "metadata": {},
   "source": [
    "### Add new features - user_ques_accuracy"
   ]
  },
  {
   "cell_type": "code",
   "execution_count": 19,
   "metadata": {},
   "outputs": [
    {
     "name": "stdout",
     "output_type": "stream",
     "text": [
      "CPU times: user 7.04 s, sys: 2.69 s, total: 9.73 s\n",
      "Wall time: 10 s\n"
     ]
    },
    {
     "data": {
      "text/html": [
       "<div>\n",
       "<style scoped>\n",
       "    .dataframe tbody tr th:only-of-type {\n",
       "        vertical-align: middle;\n",
       "    }\n",
       "\n",
       "    .dataframe tbody tr th {\n",
       "        vertical-align: top;\n",
       "    }\n",
       "\n",
       "    .dataframe thead th {\n",
       "        text-align: right;\n",
       "    }\n",
       "</style>\n",
       "<table border=\"1\" class=\"dataframe\">\n",
       "  <thead>\n",
       "    <tr style=\"text-align: right;\">\n",
       "      <th></th>\n",
       "      <th>user_id</th>\n",
       "      <th>content_id</th>\n",
       "      <th>user_ques_acc</th>\n",
       "    </tr>\n",
       "  </thead>\n",
       "  <tbody>\n",
       "    <tr>\n",
       "      <th>0</th>\n",
       "      <td>24600</td>\n",
       "      <td>175</td>\n",
       "      <td>1.0</td>\n",
       "    </tr>\n",
       "    <tr>\n",
       "      <th>1</th>\n",
       "      <td>24600</td>\n",
       "      <td>1278</td>\n",
       "      <td>1.0</td>\n",
       "    </tr>\n",
       "  </tbody>\n",
       "</table>\n",
       "</div>"
      ],
      "text/plain": [
       "   user_id  content_id  user_ques_acc\n",
       "0    24600         175            1.0\n",
       "1    24600        1278            1.0"
      ]
     },
     "execution_count": 19,
     "metadata": {},
     "output_type": "execute_result"
    }
   ],
   "source": [
    "%%time\n",
    "# Compute the user_ques_accuracy\n",
    "\n",
    "user_ques_accuracy = explore.compute_user_ques_acc(df_train)\n",
    "user_ques_accuracy.head(2)"
   ]
  },
  {
   "cell_type": "code",
   "execution_count": 20,
   "metadata": {},
   "outputs": [
    {
     "name": "stdout",
     "output_type": "stream",
     "text": [
      "<class 'pandas.core.frame.DataFrame'>\n",
      "Int64Index: 20554519 entries, 0 to 20554518\n",
      "Data columns (total 13 columns):\n",
      " #   Column                          Dtype  \n",
      "---  ------                          -----  \n",
      " 0   user_id                         int32  \n",
      " 1   content_id                      int16  \n",
      " 2   task_container_id               int16  \n",
      " 3   answered_correctly              int8   \n",
      " 4   prior_question_elapsed_time     float32\n",
      " 5   prior_question_had_explanation  bool   \n",
      " 6   question_id                     int16  \n",
      " 7   bundle_id                       int16  \n",
      " 8   correct_answer                  int8   \n",
      " 9   part                            int8   \n",
      " 10  tags                            object \n",
      " 11  tag_count                       int8   \n",
      " 12  user_ques_acc                   float16\n",
      "dtypes: bool(1), float16(1), float32(1), int16(4), int32(1), int8(4), object(1)\n",
      "memory usage: 764.5+ MB\n",
      "CPU times: user 8.91 s, sys: 3.09 s, total: 12 s\n",
      "Wall time: 12.1 s\n"
     ]
    }
   ],
   "source": [
    "%%time\n",
    "# Concat the user_ques_acc to the df_train\n",
    "\n",
    "df_train = df_train.merge(user_ques_accuracy, how='left', \n",
    "                          left_on = ['user_id', 'content_id'], \n",
    "                          right_on = ['user_id', 'content_id'])\n",
    "df_train.info()"
   ]
  },
  {
   "cell_type": "code",
   "execution_count": 54,
   "metadata": {},
   "outputs": [
    {
     "data": {
      "image/png": "[encoded data removed]",
      "text/plain": [
       "<Figure size 465x360 with 1 Axes>"
      ]
     },
     "metadata": {
      "needs_background": "light"
     },
     "output_type": "display_data"
    },
    {
     "name": "stdout",
     "output_type": "stream",
     "text": [
      "CPU times: user 5.61 s, sys: 1.28 s, total: 6.88 s\n",
      "Wall time: 6.9 s\n"
     ]
    }
   ],
   "source": [
    "%%time\n",
    "# Plot the distribution of values in column user_ques_acc\n",
    "\n",
    "sns.displot(data=df_train, x='user_ques_acc', hue='answered_correctly')\n",
    "plt.show()"
   ]
  },
  {
   "cell_type": "code",
   "execution_count": 24,
   "metadata": {},
   "outputs": [
    {
     "name": "stdout",
     "output_type": "stream",
     "text": [
      "CPU times: user 4.89 s, sys: 1.57 s, total: 6.46 s\n",
      "Wall time: 6.5 s\n"
     ]
    },
    {
     "data": {
      "text/plain": [
       "user_id                                 0\n",
       "content_id                              0\n",
       "task_container_id                       0\n",
       "answered_correctly                      0\n",
       "prior_question_elapsed_time             0\n",
       "prior_question_had_explanation          0\n",
       "user_ques_acc                     2193284\n",
       "dtype: int64"
      ]
     },
     "execution_count": 24,
     "metadata": {},
     "output_type": "execute_result"
    }
   ],
   "source": [
    "%%time\n",
    "# Concat the user_ques_acc to the df_validate\n",
    "\n",
    "df_validate = df_validate.merge(user_ques_accuracy, how='left', \n",
    "                                left_on = ['user_id', 'content_id'], \n",
    "                                right_on = ['user_id', 'content_id'])\n",
    "\n",
    "# Check the missing values\n",
    "df_validate.isnull().sum(axis=0)"
   ]
  },
  {
   "cell_type": "code",
   "execution_count": 36,
   "metadata": {},
   "outputs": [
    {
     "name": "stdout",
     "output_type": "stream",
     "text": [
      "86.32% of the values in column user_ques_acc is missing\n"
     ]
    }
   ],
   "source": [
    "# What percent of the values in column user_ques-acc are missing? \n",
    "print(f\"{round((2193284*100/df_validate.shape[0]),2)}% of the values in column user_ques_acc is missing\")"
   ]
  },
  {
   "cell_type": "code",
   "execution_count": 38,
   "metadata": {},
   "outputs": [
    {
     "name": "stdout",
     "output_type": "stream",
     "text": [
      "CPU times: user 4.89 s, sys: 1.66 s, total: 6.55 s\n",
      "Wall time: 6.59 s\n"
     ]
    },
    {
     "data": {
      "text/plain": [
       "user_id                                 0\n",
       "content_id                              0\n",
       "task_container_id                       0\n",
       "answered_correctly                      0\n",
       "prior_question_elapsed_time             0\n",
       "prior_question_had_explanation          0\n",
       "user_ques_acc                     2312506\n",
       "dtype: int64"
      ]
     },
     "execution_count": 38,
     "metadata": {},
     "output_type": "execute_result"
    }
   ],
   "source": [
    "%%time\n",
    "# Concat the user_ques_acc to the df_test\n",
    "\n",
    "df_test = df_test.merge(user_ques_accuracy, how='left', \n",
    "                        left_on = ['user_id', 'content_id'], \n",
    "                        right_on = ['user_id', 'content_id'])\n",
    "\n",
    "# Check the missing values\n",
    "df_test.isnull().sum(axis=0)"
   ]
  },
  {
   "cell_type": "code",
   "execution_count": 66,
   "metadata": {},
   "outputs": [
    {
     "name": "stdout",
     "output_type": "stream",
     "text": [
      "87.44% of the values in column user_ques_acc is missing\n"
     ]
    }
   ],
   "source": [
    "# What percent of the values in the column user_ques_acc are missing?\n",
    "print(f\"{round((2312506*100/df_test.shape[0]),2)}% of the values in column user_ques_acc is missing\")"
   ]
  },
  {
   "cell_type": "markdown",
   "metadata": {},
   "source": [
    "**Takeaways**: About 87% of the questions in the validate and test dataset are new to the users. "
   ]
  },
  {
   "cell_type": "markdown",
   "metadata": {},
   "source": [
    "### Add new features - user_bundle_accuracy"
   ]
  },
  {
   "cell_type": "code",
   "execution_count": 56,
   "metadata": {},
   "outputs": [
    {
     "name": "stdout",
     "output_type": "stream",
     "text": [
      "CPU times: user 5.76 s, sys: 2.13 s, total: 7.89 s\n",
      "Wall time: 8.06 s\n"
     ]
    },
    {
     "data": {
      "text/html": [
       "<div>\n",
       "<style scoped>\n",
       "    .dataframe tbody tr th:only-of-type {\n",
       "        vertical-align: middle;\n",
       "    }\n",
       "\n",
       "    .dataframe tbody tr th {\n",
       "        vertical-align: top;\n",
       "    }\n",
       "\n",
       "    .dataframe thead th {\n",
       "        text-align: right;\n",
       "    }\n",
       "</style>\n",
       "<table border=\"1\" class=\"dataframe\">\n",
       "  <thead>\n",
       "    <tr style=\"text-align: right;\">\n",
       "      <th></th>\n",
       "      <th>user_id</th>\n",
       "      <th>bundle_id</th>\n",
       "      <th>user_bundle_acc</th>\n",
       "    </tr>\n",
       "  </thead>\n",
       "  <tbody>\n",
       "    <tr>\n",
       "      <th>0</th>\n",
       "      <td>24600</td>\n",
       "      <td>175</td>\n",
       "      <td>1.0</td>\n",
       "    </tr>\n",
       "    <tr>\n",
       "      <th>1</th>\n",
       "      <td>24600</td>\n",
       "      <td>1278</td>\n",
       "      <td>1.0</td>\n",
       "    </tr>\n",
       "  </tbody>\n",
       "</table>\n",
       "</div>"
      ],
      "text/plain": [
       "   user_id  bundle_id  user_bundle_acc\n",
       "0    24600        175              1.0\n",
       "1    24600       1278              1.0"
      ]
     },
     "execution_count": 56,
     "metadata": {},
     "output_type": "execute_result"
    }
   ],
   "source": [
    "%%time\n",
    "# Compute the user_bundle_accuracy\n",
    "\n",
    "user_bundle_accuracy = explore.compute_user_bundle_acc(df_train)\n",
    "user_bundle_accuracy.head(2)"
   ]
  },
  {
   "cell_type": "code",
   "execution_count": 58,
   "metadata": {},
   "outputs": [
    {
     "name": "stdout",
     "output_type": "stream",
     "text": [
      "<class 'pandas.core.frame.DataFrame'>\n",
      "Int64Index: 20554519 entries, 0 to 20554518\n",
      "Data columns (total 14 columns):\n",
      " #   Column                          Dtype  \n",
      "---  ------                          -----  \n",
      " 0   user_id                         int32  \n",
      " 1   content_id                      int16  \n",
      " 2   task_container_id               int16  \n",
      " 3   answered_correctly              int8   \n",
      " 4   prior_question_elapsed_time     float32\n",
      " 5   prior_question_had_explanation  bool   \n",
      " 6   question_id                     int16  \n",
      " 7   bundle_id                       int16  \n",
      " 8   correct_answer                  int8   \n",
      " 9   part                            int8   \n",
      " 10  tags                            object \n",
      " 11  tag_count                       int8   \n",
      " 12  user_ques_acc                   float16\n",
      " 13  user_bundle_acc                 float16\n",
      "dtypes: bool(1), float16(2), float32(1), int16(4), int32(1), int8(4), object(1)\n",
      "memory usage: 803.7+ MB\n",
      "CPU times: user 7.61 s, sys: 2.79 s, total: 10.4 s\n",
      "Wall time: 10.6 s\n"
     ]
    }
   ],
   "source": [
    "%%time\n",
    "# Concat the user_bundle_acc to the df_train\n",
    "\n",
    "df_train = df_train.merge(user_bundle_accuracy, how='left', \n",
    "                          left_on = ['user_id', 'bundle_id'], \n",
    "                          right_on = ['user_id', 'bundle_id'])\n",
    "df_train.info()"
   ]
  },
  {
   "cell_type": "code",
   "execution_count": 76,
   "metadata": {},
   "outputs": [
    {
     "data": {
      "image/png": "[encoded data removed]",
      "text/plain": [
       "<Figure size 465x360 with 1 Axes>"
      ]
     },
     "metadata": {
      "needs_background": "light"
     },
     "output_type": "display_data"
    },
    {
     "name": "stdout",
     "output_type": "stream",
     "text": [
      "CPU times: user 5.79 s, sys: 1.1 s, total: 6.89 s\n",
      "Wall time: 6.81 s\n"
     ]
    }
   ],
   "source": [
    "%%time\n",
    "# Plot the distribution of values in column user_bundle_acc\n",
    "\n",
    "sns.displot(data=df_train, x='user_bundle_acc', hue='answered_correctly')\n",
    "plt.show()"
   ]
  },
  {
   "cell_type": "code",
   "execution_count": 65,
   "metadata": {},
   "outputs": [
    {
     "name": "stdout",
     "output_type": "stream",
     "text": [
      "CPU times: user 4.05 s, sys: 1.52 s, total: 5.57 s\n",
      "Wall time: 5.74 s\n"
     ]
    },
    {
     "data": {
      "text/plain": [
       "user_id                                 0\n",
       "content_id                              0\n",
       "task_container_id                       0\n",
       "answered_correctly                      0\n",
       "prior_question_elapsed_time             0\n",
       "prior_question_had_explanation          0\n",
       "user_ques_acc                     2193284\n",
       "question_id                             0\n",
       "bundle_id                               0\n",
       "correct_answer                          0\n",
       "part                                    0\n",
       "tags                                    0\n",
       "tag_count                               0\n",
       "user_bundle_acc                   2147909\n",
       "dtype: int64"
      ]
     },
     "execution_count": 65,
     "metadata": {},
     "output_type": "execute_result"
    }
   ],
   "source": [
    "%%time\n",
    "# Concat the user_bundle_acc to the df_validate\n",
    "\n",
    "df_validate = df_validate.merge(user_bundle_accuracy, how='left', \n",
    "                                left_on = ['user_id', 'bundle_id'], \n",
    "                                right_on = ['user_id', 'bundle_id'])\n",
    "\n",
    "# Check the missing values\n",
    "df_validate.isnull().sum(axis=0)"
   ]
  },
  {
   "cell_type": "code",
   "execution_count": 67,
   "metadata": {},
   "outputs": [
    {
     "name": "stdout",
     "output_type": "stream",
     "text": [
      "84.53% of the values in column user_bundle_acc is missing\n"
     ]
    }
   ],
   "source": [
    "# What percent of the values in column user_bundle_acc are missing? \n",
    "print(f\"{round((2147909*100/df_validate.shape[0]),2)}% of the values in column user_bundle_acc is missing\")"
   ]
  },
  {
   "cell_type": "code",
   "execution_count": 69,
   "metadata": {},
   "outputs": [
    {
     "name": "stdout",
     "output_type": "stream",
     "text": [
      "CPU times: user 4.17 s, sys: 1.24 s, total: 5.41 s\n",
      "Wall time: 5.46 s\n"
     ]
    },
    {
     "data": {
      "text/plain": [
       "user_id                                 0\n",
       "content_id                              0\n",
       "task_container_id                       0\n",
       "answered_correctly                      0\n",
       "prior_question_elapsed_time             0\n",
       "prior_question_had_explanation          0\n",
       "user_ques_acc                     2312506\n",
       "question_id                             0\n",
       "bundle_id                               0\n",
       "correct_answer                          0\n",
       "part                                    0\n",
       "tags                                    0\n",
       "tag_count                               0\n",
       "user_bundle_acc                   2312095\n",
       "dtype: int64"
      ]
     },
     "execution_count": 69,
     "metadata": {},
     "output_type": "execute_result"
    }
   ],
   "source": [
    "%%time\n",
    "# Concat the user_bundle_acc to the df_test\n",
    "\n",
    "df_test = df_test.merge(user_bundle_accuracy, how='left', \n",
    "                        left_on = ['user_id', 'bundle_id'], \n",
    "                        right_on = ['user_id', 'bundle_id'])\n",
    "\n",
    "# Check the missing values\n",
    "df_test.isnull().sum(axis=0)"
   ]
  },
  {
   "cell_type": "code",
   "execution_count": 70,
   "metadata": {},
   "outputs": [
    {
     "name": "stdout",
     "output_type": "stream",
     "text": [
      "87.43% of the values in column user_bundle_acc is missing\n"
     ]
    }
   ],
   "source": [
    "# What percent of the values in column user_bundle_acc are missing? \n",
    "print(f\"{round((2312095*100/df_test.shape[0]),2)}% of the values in column user_bundle_acc is missing\")"
   ]
  },
  {
   "cell_type": "markdown",
   "metadata": {},
   "source": [
    "**Takeaways**: About 86% of the bundles in the validate and test dataset are new to the users. "
   ]
  },
  {
   "cell_type": "markdown",
   "metadata": {},
   "source": [
    "### Add new features - user_tags_accuracy"
   ]
  },
  {
   "cell_type": "code",
   "execution_count": 72,
   "metadata": {},
   "outputs": [
    {
     "name": "stdout",
     "output_type": "stream",
     "text": [
      "CPU times: user 4.46 s, sys: 1.34 s, total: 5.8 s\n",
      "Wall time: 5.9 s\n"
     ]
    },
    {
     "data": {
      "text/html": [
       "<div>\n",
       "<style scoped>\n",
       "    .dataframe tbody tr th:only-of-type {\n",
       "        vertical-align: middle;\n",
       "    }\n",
       "\n",
       "    .dataframe tbody tr th {\n",
       "        vertical-align: top;\n",
       "    }\n",
       "\n",
       "    .dataframe thead th {\n",
       "        text-align: right;\n",
       "    }\n",
       "</style>\n",
       "<table border=\"1\" class=\"dataframe\">\n",
       "  <thead>\n",
       "    <tr style=\"text-align: right;\">\n",
       "      <th></th>\n",
       "      <th>user_id</th>\n",
       "      <th>tags</th>\n",
       "      <th>user_tags_acc</th>\n",
       "    </tr>\n",
       "  </thead>\n",
       "  <tbody>\n",
       "    <tr>\n",
       "      <th>0</th>\n",
       "      <td>24600</td>\n",
       "      <td>1</td>\n",
       "      <td>0.0</td>\n",
       "    </tr>\n",
       "    <tr>\n",
       "      <th>1</th>\n",
       "      <td>24600</td>\n",
       "      <td>10 94 92</td>\n",
       "      <td>0.0</td>\n",
       "    </tr>\n",
       "  </tbody>\n",
       "</table>\n",
       "</div>"
      ],
      "text/plain": [
       "   user_id      tags  user_tags_acc\n",
       "0    24600         1            0.0\n",
       "1    24600  10 94 92            0.0"
      ]
     },
     "execution_count": 72,
     "metadata": {},
     "output_type": "execute_result"
    }
   ],
   "source": [
    "%%time\n",
    "# Compute the user_tags_accuracy\n",
    "\n",
    "user_tags_accuracy = explore.compute_user_tags_acc(df_train)\n",
    "user_tags_accuracy.head(2)"
   ]
  },
  {
   "cell_type": "code",
   "execution_count": 78,
   "metadata": {},
   "outputs": [
    {
     "name": "stdout",
     "output_type": "stream",
     "text": [
      "<class 'pandas.core.frame.DataFrame'>\n",
      "Int64Index: 20554519 entries, 0 to 20554518\n",
      "Data columns (total 15 columns):\n",
      " #   Column                          Dtype  \n",
      "---  ------                          -----  \n",
      " 0   user_id                         int32  \n",
      " 1   content_id                      int16  \n",
      " 2   task_container_id               int16  \n",
      " 3   answered_correctly              int8   \n",
      " 4   prior_question_elapsed_time     float32\n",
      " 5   prior_question_had_explanation  bool   \n",
      " 6   question_id                     int16  \n",
      " 7   bundle_id                       int16  \n",
      " 8   correct_answer                  int8   \n",
      " 9   part                            int8   \n",
      " 10  tags                            object \n",
      " 11  tag_count                       int8   \n",
      " 12  user_ques_acc                   float16\n",
      " 13  user_bundle_acc                 float16\n",
      " 14  user_tags_acc                   float16\n",
      "dtypes: bool(1), float16(3), float32(1), int16(4), int32(1), int8(4), object(1)\n",
      "memory usage: 842.9+ MB\n",
      "CPU times: user 6.28 s, sys: 2.07 s, total: 8.35 s\n",
      "Wall time: 8.54 s\n"
     ]
    }
   ],
   "source": [
    "%%time\n",
    "# Concat the user_part_acc to the df_train\n",
    "\n",
    "df_train = df_train.merge(user_tags_accuracy, how='left', \n",
    "                          left_on = ['user_id', 'tags'], \n",
    "                          right_on = ['user_id', 'tags'])\n",
    "df_train.info()"
   ]
  },
  {
   "cell_type": "code",
   "execution_count": 79,
   "metadata": {},
   "outputs": [
    {
     "data": {
      "image/png": "[encoded data removed]",
      "text/plain": [
       "<Figure size 465x360 with 1 Axes>"
      ]
     },
     "metadata": {
      "needs_background": "light"
     },
     "output_type": "display_data"
    },
    {
     "name": "stdout",
     "output_type": "stream",
     "text": [
      "CPU times: user 6.68 s, sys: 1.46 s, total: 8.14 s\n",
      "Wall time: 8.19 s\n"
     ]
    }
   ],
   "source": [
    "%%time\n",
    "# Plot the distribution of values in column user_tags_acc\n",
    "\n",
    "sns.displot(data=df_train, x='user_tags_acc', hue='answered_correctly')\n",
    "plt.show()"
   ]
  },
  {
   "cell_type": "code",
   "execution_count": 82,
   "metadata": {},
   "outputs": [
    {
     "name": "stdout",
     "output_type": "stream",
     "text": [
      "CPU times: user 2.56 s, sys: 737 ms, total: 3.3 s\n",
      "Wall time: 3.33 s\n"
     ]
    },
    {
     "data": {
      "text/plain": [
       "user_id                                 0\n",
       "content_id                              0\n",
       "task_container_id                       0\n",
       "answered_correctly                      0\n",
       "prior_question_elapsed_time             0\n",
       "prior_question_had_explanation          0\n",
       "user_ques_acc                     2193284\n",
       "question_id                             0\n",
       "bundle_id                               0\n",
       "correct_answer                          0\n",
       "part                                    0\n",
       "tags                                    0\n",
       "tag_count                               0\n",
       "user_bundle_acc                   2147909\n",
       "user_tags_acc                      757773\n",
       "dtype: int64"
      ]
     },
     "execution_count": 82,
     "metadata": {},
     "output_type": "execute_result"
    }
   ],
   "source": [
    "%%time\n",
    "# Concat the user_tags_acc to the df_validate\n",
    "\n",
    "df_validate = df_validate.merge(user_tags_accuracy, how='left', \n",
    "                                left_on = ['user_id', 'tags'], \n",
    "                                right_on = ['user_id', 'tags'])\n",
    "\n",
    "# Check the missing values\n",
    "df_validate.isnull().sum(axis=0)"
   ]
  },
  {
   "cell_type": "code",
   "execution_count": 83,
   "metadata": {},
   "outputs": [
    {
     "name": "stdout",
     "output_type": "stream",
     "text": [
      "29.82% of the values in column user_tags_acc is missing\n"
     ]
    }
   ],
   "source": [
    "# What percent of the values in column user_tags_acc are missing? \n",
    "print(f\"{round((757773*100/df_validate.shape[0]),2)}% of the values in column user_tags_acc is missing\")"
   ]
  },
  {
   "cell_type": "code",
   "execution_count": 84,
   "metadata": {},
   "outputs": [
    {
     "name": "stdout",
     "output_type": "stream",
     "text": [
      "CPU times: user 2.6 s, sys: 775 ms, total: 3.38 s\n",
      "Wall time: 3.41 s\n"
     ]
    },
    {
     "data": {
      "text/plain": [
       "user_id                                 0\n",
       "content_id                              0\n",
       "task_container_id                       0\n",
       "answered_correctly                      0\n",
       "prior_question_elapsed_time             0\n",
       "prior_question_had_explanation          0\n",
       "user_ques_acc                     2312506\n",
       "question_id                             0\n",
       "bundle_id                               0\n",
       "correct_answer                          0\n",
       "part                                    0\n",
       "tags                                    0\n",
       "tag_count                               0\n",
       "user_bundle_acc                   2312095\n",
       "user_tags_acc                      831523\n",
       "dtype: int64"
      ]
     },
     "execution_count": 84,
     "metadata": {},
     "output_type": "execute_result"
    }
   ],
   "source": [
    "%%time\n",
    "# Concat the user_tags_acc to the df_test\n",
    "\n",
    "df_test = df_test.merge(user_tags_accuracy, how='left', \n",
    "                        left_on = ['user_id', 'tags'], \n",
    "                        right_on = ['user_id', 'tags'])\n",
    "\n",
    "# Check the missing values\n",
    "df_test.isnull().sum(axis=0)"
   ]
  },
  {
   "cell_type": "code",
   "execution_count": 85,
   "metadata": {},
   "outputs": [
    {
     "name": "stdout",
     "output_type": "stream",
     "text": [
      "31.44% of the values in column user_tags_acc is missing\n"
     ]
    }
   ],
   "source": [
    "# What percent of the values in column user_tags_acc are missing? \n",
    "print(f\"{round((831523*100/df_test.shape[0]),2)}% of the values in column user_tags_acc is missing\")"
   ]
  },
  {
   "cell_type": "markdown",
   "metadata": {},
   "source": [
    "**Takeaways**: About 30% of the tags in the validate and test dataset are new to the users. "
   ]
  },
  {
   "cell_type": "markdown",
   "metadata": {},
   "source": [
    "### Add new features - user_part_accuracy"
   ]
  },
  {
   "cell_type": "code",
   "execution_count": 88,
   "metadata": {},
   "outputs": [
    {
     "name": "stdout",
     "output_type": "stream",
     "text": [
      "CPU times: user 1.07 s, sys: 613 ms, total: 1.69 s\n",
      "Wall time: 1.71 s\n"
     ]
    },
    {
     "data": {
      "text/html": [
       "<div>\n",
       "<style scoped>\n",
       "    .dataframe tbody tr th:only-of-type {\n",
       "        vertical-align: middle;\n",
       "    }\n",
       "\n",
       "    .dataframe tbody tr th {\n",
       "        vertical-align: top;\n",
       "    }\n",
       "\n",
       "    .dataframe thead th {\n",
       "        text-align: right;\n",
       "    }\n",
       "</style>\n",
       "<table border=\"1\" class=\"dataframe\">\n",
       "  <thead>\n",
       "    <tr style=\"text-align: right;\">\n",
       "      <th></th>\n",
       "      <th>user_id</th>\n",
       "      <th>part</th>\n",
       "      <th>user_part_acc</th>\n",
       "    </tr>\n",
       "  </thead>\n",
       "  <tbody>\n",
       "    <tr>\n",
       "      <th>0</th>\n",
       "      <td>24600</td>\n",
       "      <td>1</td>\n",
       "      <td>0.669922</td>\n",
       "    </tr>\n",
       "    <tr>\n",
       "      <th>1</th>\n",
       "      <td>24600</td>\n",
       "      <td>2</td>\n",
       "      <td>1.000000</td>\n",
       "    </tr>\n",
       "  </tbody>\n",
       "</table>\n",
       "</div>"
      ],
      "text/plain": [
       "   user_id  part  user_part_acc\n",
       "0    24600     1       0.669922\n",
       "1    24600     2       1.000000"
      ]
     },
     "execution_count": 88,
     "metadata": {},
     "output_type": "execute_result"
    }
   ],
   "source": [
    "%%time\n",
    "# Compute the user_part_accuracy\n",
    "\n",
    "user_part_accuracy = explore.compute_user_part_acc(df_train)\n",
    "user_part_accuracy.head(2)"
   ]
  },
  {
   "cell_type": "code",
   "execution_count": 89,
   "metadata": {},
   "outputs": [
    {
     "name": "stdout",
     "output_type": "stream",
     "text": [
      "<class 'pandas.core.frame.DataFrame'>\n",
      "Int64Index: 20554519 entries, 0 to 20554518\n",
      "Data columns (total 16 columns):\n",
      " #   Column                          Dtype  \n",
      "---  ------                          -----  \n",
      " 0   user_id                         int32  \n",
      " 1   content_id                      int16  \n",
      " 2   task_container_id               int16  \n",
      " 3   answered_correctly              int8   \n",
      " 4   prior_question_elapsed_time     float32\n",
      " 5   prior_question_had_explanation  bool   \n",
      " 6   question_id                     int16  \n",
      " 7   bundle_id                       int16  \n",
      " 8   correct_answer                  int8   \n",
      " 9   part                            int8   \n",
      " 10  tags                            object \n",
      " 11  tag_count                       int8   \n",
      " 12  user_ques_acc                   float16\n",
      " 13  user_bundle_acc                 float16\n",
      " 14  user_tags_acc                   float16\n",
      " 15  user_part_acc                   float16\n",
      "dtypes: bool(1), float16(4), float32(1), int16(4), int32(1), int8(4), object(1)\n",
      "memory usage: 882.1+ MB\n",
      "CPU times: user 3.43 s, sys: 1.7 s, total: 5.13 s\n",
      "Wall time: 5.19 s\n"
     ]
    }
   ],
   "source": [
    "%%time\n",
    "# Concat the user_part_acc to the df_train\n",
    "\n",
    "df_train = df_train.merge(user_part_accuracy, how='left', \n",
    "                          left_on = ['user_id', 'part'], \n",
    "                          right_on = ['user_id', 'part'])\n",
    "df_train.info()"
   ]
  },
  {
   "cell_type": "code",
   "execution_count": 93,
   "metadata": {},
   "outputs": [
    {
     "data": {
      "image/png": "[encoded data removed]",
      "text/plain": [
       "<Figure size 465x360 with 1 Axes>"
      ]
     },
     "metadata": {
      "needs_background": "light"
     },
     "output_type": "display_data"
    },
    {
     "name": "stdout",
     "output_type": "stream",
     "text": [
      "CPU times: user 7.87 s, sys: 1.13 s, total: 9 s\n",
      "Wall time: 8.9 s\n"
     ]
    }
   ],
   "source": [
    "%%time\n",
    "# Plot the distribution of values in column user_part_acc\n",
    "\n",
    "sns.displot(data=df_train, x='user_part_acc', hue='answered_correctly')\n",
    "plt.show()"
   ]
  },
  {
   "cell_type": "code",
   "execution_count": 94,
   "metadata": {},
   "outputs": [
    {
     "name": "stdout",
     "output_type": "stream",
     "text": [
      "CPU times: user 559 ms, sys: 186 ms, total: 745 ms\n",
      "Wall time: 744 ms\n"
     ]
    },
    {
     "data": {
      "text/plain": [
       "user_id                                 0\n",
       "content_id                              0\n",
       "task_container_id                       0\n",
       "answered_correctly                      0\n",
       "prior_question_elapsed_time             0\n",
       "prior_question_had_explanation          0\n",
       "user_ques_acc                     2193284\n",
       "question_id                             0\n",
       "bundle_id                               0\n",
       "correct_answer                          0\n",
       "part                                    0\n",
       "tags                                    0\n",
       "tag_count                               0\n",
       "user_bundle_acc                   2147909\n",
       "user_tags_acc                      757773\n",
       "user_part_acc                       41473\n",
       "dtype: int64"
      ]
     },
     "execution_count": 94,
     "metadata": {},
     "output_type": "execute_result"
    }
   ],
   "source": [
    "%%time\n",
    "# Concat the user_part_acc to the df_validate\n",
    "\n",
    "df_validate = df_validate.merge(user_part_accuracy, how='left', \n",
    "                                left_on = ['user_id', 'part'], \n",
    "                                right_on = ['user_id', 'part'])\n",
    "\n",
    "# Check the missing values\n",
    "df_validate.isnull().sum(axis=0)"
   ]
  },
  {
   "cell_type": "code",
   "execution_count": 95,
   "metadata": {},
   "outputs": [
    {
     "name": "stdout",
     "output_type": "stream",
     "text": [
      "1.63% of the values in column user_part_acc is missing\n"
     ]
    }
   ],
   "source": [
    "# What percent of the values in column user_part_acc are missing? \n",
    "print(f\"{round((41473*100/df_validate.shape[0]),2)}% of the values in column user_part_acc is missing\")"
   ]
  },
  {
   "cell_type": "code",
   "execution_count": 96,
   "metadata": {},
   "outputs": [
    {
     "name": "stdout",
     "output_type": "stream",
     "text": [
      "CPU times: user 590 ms, sys: 182 ms, total: 772 ms\n",
      "Wall time: 771 ms\n"
     ]
    },
    {
     "data": {
      "text/plain": [
       "user_id                                 0\n",
       "content_id                              0\n",
       "task_container_id                       0\n",
       "answered_correctly                      0\n",
       "prior_question_elapsed_time             0\n",
       "prior_question_had_explanation          0\n",
       "user_ques_acc                     2312506\n",
       "question_id                             0\n",
       "bundle_id                               0\n",
       "correct_answer                          0\n",
       "part                                    0\n",
       "tags                                    0\n",
       "tag_count                               0\n",
       "user_bundle_acc                   2312095\n",
       "user_tags_acc                      831523\n",
       "user_part_acc                       90722\n",
       "dtype: int64"
      ]
     },
     "execution_count": 96,
     "metadata": {},
     "output_type": "execute_result"
    }
   ],
   "source": [
    "%%time\n",
    "# Concat the user_part_acc to the df_test\n",
    "\n",
    "df_test = df_test.merge(user_part_accuracy, how='left', \n",
    "                        left_on = ['user_id', 'part'], \n",
    "                        right_on = ['user_id', 'part'])\n",
    "\n",
    "# Check the missing values\n",
    "df_test.isnull().sum(axis=0)"
   ]
  },
  {
   "cell_type": "code",
   "execution_count": 98,
   "metadata": {},
   "outputs": [
    {
     "name": "stdout",
     "output_type": "stream",
     "text": [
      "3.43% of the values in column user_part_acc is missing\n"
     ]
    }
   ],
   "source": [
    "# What percent of the values in column user_part_acc are missing? \n",
    "print(f\"{round((90722*100/df_test.shape[0]),2)}% of the values in column user_part_acc is missing\")"
   ]
  },
  {
   "cell_type": "markdown",
   "metadata": {},
   "source": [
    "**Takeaways**: 2% of the users in the validate and test dataset are going to answer the questions in the new parts. "
   ]
  },
  {
   "cell_type": "code",
   "execution_count": 90,
   "metadata": {
    "scrolled": true
   },
   "outputs": [
    {
     "name": "stdout",
     "output_type": "stream",
     "text": [
      "Memory usage before running garbage collector:  65.8\n",
      "Memory usage after:  65.8\n"
     ]
    }
   ],
   "source": [
    "# Release memory\n",
    "print(\"Memory usage before running garbage collector: \", psutil.virtual_memory().percent)\n",
    "gc.collect\n",
    "print(\"Memory usage after: \", psutil.virtual_memory().percent)"
   ]
  }
 ],
 "metadata": {
  "kernelspec": {
   "display_name": "Python 3",
   "language": "python",
   "name": "python3"
  },
  "language_info": {
   "codemirror_mode": {
    "name": "ipython",
    "version": 3
   },
   "file_extension": ".py",
   "mimetype": "text/x-python",
   "name": "python",
   "nbconvert_exporter": "python",
   "pygments_lexer": "ipython3",
   "version": "3.7.6"
  }
 },
 "nbformat": 4,
 "nbformat_minor": 4
}
